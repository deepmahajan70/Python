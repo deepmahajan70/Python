{
 "cells": [
  {
   "cell_type": "markdown",
   "id": "da27b169",
   "metadata": {},
   "source": [
    "# Printing Hello World"
   ]
  },
  {
   "cell_type": "code",
   "execution_count": 21,
   "id": "7408eeeb",
   "metadata": {
    "collapsed": true
   },
   "outputs": [
    {
     "name": "stdout",
     "output_type": "stream",
     "text": [
      "Hello World\n",
      "I/will/change/Sep/parameter/here\n",
      "Hello\n",
      "World\n",
      "Printing on Same line * ...because we changed end to *\n"
     ]
    }
   ],
   "source": [
    "# Docstring:\n",
    "# print(value, ..., sep=' ', end='\\n', file=sys.stdout, flush=False)\n",
    "# Prints the values to a stream, or to sys.stdout by default.\n",
    "\n",
    "print('Hello World')\n",
    "\n",
    "print('I', 'will', 'change', 'Sep', 'parameter', 'here', sep='/')\n",
    "\n",
    "print(\"Hello\")\n",
    "print(\"World\")\n",
    "\n",
    "print(\"Printing on Same line \", end='*')\n",
    "print(\" ...because we changed end to *\")"
   ]
  },
  {
   "cell_type": "markdown",
   "id": "975f567f",
   "metadata": {},
   "source": [
    "# Basic Data Types: Integer, Float, Complex, String"
   ]
  },
  {
   "cell_type": "code",
   "execution_count": 17,
   "id": "42b2f450",
   "metadata": {
    "collapsed": true
   },
   "outputs": [
    {
     "name": "stdout",
     "output_type": "stream",
     "text": [
      "4\n",
      "-65\n",
      "1e+308\n",
      "inf\n"
     ]
    }
   ],
   "source": [
    "# Interger: can hold very large interger number i.e 10^308 (for 10^309 it will print infinite)\n",
    "print(4)\n",
    "print(-65)\n",
    "print(1e308)\n",
    "print(1e309)"
   ]
  },
  {
   "cell_type": "code",
   "execution_count": 8,
   "id": "63e5d276",
   "metadata": {
    "collapsed": true
   },
   "outputs": [
    {
     "name": "stdout",
     "output_type": "stream",
     "text": [
      "3.147585654\n",
      "-65.5278654\n",
      "1.7e+308\n",
      "-inf\n"
     ]
    }
   ],
   "source": [
    "# Float: can hold very large floating point number i.e 10^308 (for 10^309 it will print infinite)\n",
    "print(3.147585654)\n",
    "print(-65.5278654)\n",
    "print(1.7e308)\n",
    "print(-1.1e309)"
   ]
  },
  {
   "cell_type": "code",
   "execution_count": 9,
   "id": "519e93f4",
   "metadata": {
    "collapsed": true
   },
   "outputs": [
    {
     "name": "stdout",
     "output_type": "stream",
     "text": [
      "(4+5j)\n"
     ]
    }
   ],
   "source": [
    "# Complex: can hold complex number\n",
    "print(4+5j)"
   ]
  },
  {
   "cell_type": "code",
   "execution_count": 11,
   "id": "95628cdb",
   "metadata": {
    "collapsed": true
   },
   "outputs": [
    {
     "name": "stdout",
     "output_type": "stream",
     "text": [
      "True\n",
      "False\n"
     ]
    }
   ],
   "source": [
    "# Boolean: can hold True or False\n",
    "print(True)\n",
    "print(False)"
   ]
  },
  {
   "cell_type": "code",
   "execution_count": 13,
   "id": "3a65de6a",
   "metadata": {
    "collapsed": true
   },
   "outputs": [
    {
     "name": "stdout",
     "output_type": "stream",
     "text": [
      "Learning Python is Fun\n"
     ]
    }
   ],
   "source": [
    "# String: can hold character array as a string\n",
    "print('Learning Python is Fun')"
   ]
  },
  {
   "cell_type": "code",
   "execution_count": 3,
   "id": "7b8e3ba6",
   "metadata": {
    "collapsed": true
   },
   "outputs": [
    {
     "ename": "SyntaxError",
     "evalue": "invalid syntax (3048367641.py, line 1)",
     "output_type": "error",
     "traceback": [
      "\u001b[1;36m  Cell \u001b[1;32mIn[3], line 1\u001b[1;36m\u001b[0m\n\u001b[1;33m    print('Deepak's World')\u001b[0m\n\u001b[1;37m                  ^\u001b[0m\n\u001b[1;31mSyntaxError\u001b[0m\u001b[1;31m:\u001b[0m invalid syntax\n"
     ]
    }
   ],
   "source": [
    "# Printing Deepak's World \n",
    "print('Deepak's World') "
   ]
  },
  {
   "cell_type": "code",
   "execution_count": 4,
   "id": "cc1f1204",
   "metadata": {
    "collapsed": true
   },
   "outputs": [
    {
     "name": "stdout",
     "output_type": "stream",
     "text": [
      "Deepak's World\n"
     ]
    }
   ],
   "source": [
    "print(\"Deepak's World\") "
   ]
  },
  {
   "cell_type": "code",
   "execution_count": 5,
   "id": "8caa2eac",
   "metadata": {
    "collapsed": true
   },
   "outputs": [
    {
     "ename": "SyntaxError",
     "evalue": "invalid syntax (1672228632.py, line 1)",
     "output_type": "error",
     "traceback": [
      "\u001b[1;36m  Cell \u001b[1;32mIn[5], line 1\u001b[1;36m\u001b[0m\n\u001b[1;33m    print(\"Welcome to \"Python\"\")\u001b[0m\n\u001b[1;37m                       ^\u001b[0m\n\u001b[1;31mSyntaxError\u001b[0m\u001b[1;31m:\u001b[0m invalid syntax\n"
     ]
    }
   ],
   "source": [
    "# Printing Welcome to \"Python\"\n",
    "print(\"Welcome to \"Python\"\") "
   ]
  },
  {
   "cell_type": "code",
   "execution_count": 6,
   "id": "b336b87f",
   "metadata": {
    "collapsed": true
   },
   "outputs": [
    {
     "name": "stdout",
     "output_type": "stream",
     "text": [
      "Welcome to \"Python\"\n"
     ]
    }
   ],
   "source": [
    "print('''Welcome to \"Python\"''') "
   ]
  },
  {
   "cell_type": "markdown",
   "id": "6f6cc43d",
   "metadata": {},
   "source": [
    "# Container Data Types: List, Tuple, Set, Dictionary"
   ]
  },
  {
   "cell_type": "code",
   "execution_count": 18,
   "id": "487c79d0",
   "metadata": {
    "collapsed": true
   },
   "outputs": [
    {
     "name": "stdout",
     "output_type": "stream",
     "text": [
      "[1, 2, 3, 4]\n",
      "['Apple', 'Banana', 'Mango']\n",
      "[1, 'Apple', 3, 'Mango']\n"
     ]
    }
   ],
   "source": [
    "# Lists: similar to arrays in other programming languages, \n",
    "#        but it can hold different data types together and elements are mutable\n",
    "my_num_list = [1,2,3,4]\n",
    "print(my_num_list)\n",
    "\n",
    "my_fruit_list = [\"Apple\",\"Banana\",\"Mango\"]\n",
    "print(my_fruit_list)\n",
    "\n",
    "my_mix_list = [1,\"Apple\",3,\"Mango\"]\n",
    "print(my_mix_list)\n"
   ]
  },
  {
   "cell_type": "code",
   "execution_count": 21,
   "id": "04c97b78",
   "metadata": {
    "collapsed": true
   },
   "outputs": [
    {
     "name": "stdout",
     "output_type": "stream",
     "text": [
      "(1, 2, 3, 4)\n",
      "('BMW', 'Oddy', 'Ferrary')\n",
      "(7, 'Oddy', 3, 'Ferrary')\n"
     ]
    }
   ],
   "source": [
    "# Tuples: Similar to Lists, instead of [] we use () and elements are immutable, \n",
    "#         memory efficient as compare to lists, preferred over lists if data shouldn't change\n",
    "\n",
    "my_num_tuple = (1,2,3,4)\n",
    "print(my_num_tuple)\n",
    "\n",
    "my_car_tuple = (\"BMW\",\"Oddy\",\"Ferrary\")\n",
    "print(my_car_tuple)\n",
    "\n",
    "my_combo_tuple = (7,\"Oddy\", 3, \"Ferrary\")\n",
    "print(my_combo_tuple)"
   ]
  },
  {
   "cell_type": "code",
   "execution_count": 24,
   "id": "47e51eb8",
   "metadata": {
    "collapsed": true
   },
   "outputs": [
    {
     "name": "stdout",
     "output_type": "stream",
     "text": [
      "{1, 2, 3, 4}\n",
      "{'C++', 'Java', 'C'}\n",
      "{1.5, 'C++', -3, 'Java'}\n"
     ]
    }
   ],
   "source": [
    "# Sets: Similar to Set concept in Maths, we use {} \n",
    "\n",
    "my_skill_set ={1,2,3,4}\n",
    "print(my_skill_set)\n",
    "\n",
    "my_prog_set ={\"C\",\"C++\",\"Java\"}\n",
    "print(my_prog_set)\n",
    "\n",
    "my_diff_set ={1.5 ,\"C++\",- 3, \"Java\"}\n",
    "print(my_diff_set)\n"
   ]
  },
  {
   "cell_type": "code",
   "execution_count": 26,
   "id": "8f16ae6e",
   "metadata": {
    "collapsed": true
   },
   "outputs": [
    {
     "name": "stdout",
     "output_type": "stream",
     "text": [
      "{'Deepak': '9090019857', 'Pooja': '9898989898'}\n",
      "{'Name': 'Deepak Dilip Mahajan', 'Age': '37', 'Gender': 'Male'}\n"
     ]
    }
   ],
   "source": [
    "# Dictionary: Collection of Key:Value pairs as an elements\n",
    "\n",
    "my_phone_dict = {\"Deepak\":\"9090019857\",\"Pooja\":\"9898989898\"}\n",
    "print(my_phone_dict)\n",
    "\n",
    "my_details_dict = {\"Name\":\"Deepak Dilip Mahajan\", \"Age\":\"37\", \"Gender\":\"Male\"}\n",
    "print(my_details_dict)"
   ]
  },
  {
   "cell_type": "markdown",
   "id": "c94c8cf7",
   "metadata": {},
   "source": [
    "# User Defined Data Type: Class"
   ]
  },
  {
   "cell_type": "code",
   "execution_count": 37,
   "id": "46be199d",
   "metadata": {
    "collapsed": true
   },
   "outputs": [
    {
     "name": "stdout",
     "output_type": "stream",
     "text": [
      "0 s1\n",
      "7 Tom ['Physics', 'Chemistry', 'Maths']\n"
     ]
    }
   ],
   "source": [
    "# Class: User Defined Data Type, can combine different data types \n",
    "\n",
    "class my_student:\n",
    "    roll_no = 0\n",
    "    name = \"s1\"\n",
    "    subjects = ['Physics', 'Chemistry', 'Maths']\n",
    "\n",
    "s1 = my_student()\n",
    "print(s1.roll_no, s1.name)\n",
    "s1.roll_no = 7\n",
    "s1.name =\"Tom\"\n",
    "print(s1.roll_no, s1.name, s1.subjects)"
   ]
  },
  {
   "cell_type": "markdown",
   "id": "6c5bbdb8",
   "metadata": {},
   "source": [
    "# Variables: Dynamic Typing , Dynamic Binding"
   ]
  },
  {
   "cell_type": "code",
   "execution_count": 1,
   "id": "eeeadb46",
   "metadata": {
    "collapsed": true
   },
   "outputs": [
    {
     "name": "stdout",
     "output_type": "stream",
     "text": [
      "Deepak\n",
      "45.89\n",
      "True\n"
     ]
    }
   ],
   "source": [
    "# No need of prior declaration of variables data type (Dynamic Typing)\n",
    "# variable name = value\n",
    "name ='Deepak'\n",
    "print(name)\n",
    "\n",
    "# Change Data Type as and when required (Dynamic Binding)\n",
    "name = 45.89\n",
    "print(name)\n",
    "\n",
    "name = True\n",
    "print(name)"
   ]
  },
  {
   "cell_type": "code",
   "execution_count": 5,
   "id": "6c44755f",
   "metadata": {
    "collapsed": true
   },
   "outputs": [
    {
     "name": "stdout",
     "output_type": "stream",
     "text": [
      "3 3.34 xyz\n",
      "A -44 3.14\n",
      "2 2 2\n"
     ]
    }
   ],
   "source": [
    "# Special Syntax for Multiple Variables at a time\n",
    "\n",
    "a=3; b=3.34; c = 'xyz'\n",
    "print(a,b,c)\n",
    "\n",
    "p,q,r = 'A', -44, 3.14\n",
    "print(p,q,r)\n",
    "\n",
    "s = t = u = 2\n",
    "print(s,t,u)"
   ]
  },
  {
   "cell_type": "markdown",
   "id": "50e4d624",
   "metadata": {},
   "source": [
    "# Python Keywords: Python is Case-Sensitive"
   ]
  },
  {
   "cell_type": "code",
   "execution_count": 22,
   "id": "95675730",
   "metadata": {
    "collapsed": true
   },
   "outputs": [
    {
     "name": "stdout",
     "output_type": "stream",
     "text": [
      "['False', 'None', 'True', 'and', 'as', 'assert', 'async', 'await', 'break', 'class', 'continue', 'def', 'del', 'elif', 'else', 'except', 'finally', 'for', 'from', 'global', 'if', 'import', 'in', 'is', 'lambda', 'nonlocal', 'not', 'or', 'pass', 'raise', 'return', 'try', 'while', 'with', 'yield']\n"
     ]
    }
   ],
   "source": [
    "import keyword\n",
    "print(keyword.kwlist)"
   ]
  },
  {
   "cell_type": "markdown",
   "id": "8d99661f",
   "metadata": {},
   "source": [
    "# Identifiers"
   ]
  },
  {
   "cell_type": "code",
   "execution_count": 26,
   "id": "38f81cf0",
   "metadata": {
    "collapsed": true
   },
   "outputs": [
    {
     "name": "stdout",
     "output_type": "stream",
     "text": [
      "12\n",
      "A\n"
     ]
    }
   ],
   "source": [
    "# Identifier: is the name used to identify a variable, function, class, module, or other object\n",
    "\n",
    "# Rule 1: Keywords can not be used as a identifiers\n",
    "# e.g. import = 22\n",
    "\n",
    "# Rule 2: Can ONLY start with alphabet or _ , followed by 0 or more letteres, _ , and / or digits\n",
    "# e.g. 23student = 'shyam' \n",
    "\n",
    "# Rule 3: Can only created using Rule 1 and 2, else NOT valid\n",
    "# e.g. a%ds_#as9 = 1234\n",
    "\n",
    "_ = 12\n",
    "\n",
    "print(_)\n",
    "\n",
    "a_2376789_0a = 'A'\n",
    "print(a_2376789_0a)\n"
   ]
  },
  {
   "cell_type": "markdown",
   "id": "e443ae63",
   "metadata": {},
   "source": [
    "# Taking User Input"
   ]
  },
  {
   "cell_type": "code",
   "execution_count": 1,
   "id": "083dfef0",
   "metadata": {
    "collapsed": true
   },
   "outputs": [
    {
     "ename": "KeyboardInterrupt",
     "evalue": "Interrupted by user",
     "output_type": "error",
     "traceback": [
      "\u001b[1;31m---------------------------------------------------------------------------\u001b[0m",
      "\u001b[1;31mKeyboardInterrupt\u001b[0m                         Traceback (most recent call last)",
      "Cell \u001b[1;32mIn[1], line 5\u001b[0m\n\u001b[0;32m      1\u001b[0m \u001b[38;5;66;03m# input()\u001b[39;00m\n\u001b[0;32m      2\u001b[0m \u001b[38;5;66;03m# Signature: input(prompt=None, /)\u001b[39;00m\n\u001b[0;32m      3\u001b[0m \u001b[38;5;66;03m# Docstring:\u001b[39;00m\n\u001b[0;32m      4\u001b[0m \u001b[38;5;66;03m# Read a string from standard input.  The trailing newline is stripped.\u001b[39;00m\n\u001b[1;32m----> 5\u001b[0m \u001b[38;5;28;43minput\u001b[39;49m\u001b[43m(\u001b[49m\u001b[38;5;124;43m\"\u001b[39;49m\u001b[38;5;124;43mEnter your Name\u001b[39;49m\u001b[38;5;124;43m\"\u001b[39;49m\u001b[43m)\u001b[49m\n",
      "File \u001b[1;32m~\\anaconda3\\lib\\site-packages\\ipykernel\\kernelbase.py:1175\u001b[0m, in \u001b[0;36mKernel.raw_input\u001b[1;34m(self, prompt)\u001b[0m\n\u001b[0;32m   1171\u001b[0m \u001b[38;5;28;01mif\u001b[39;00m \u001b[38;5;129;01mnot\u001b[39;00m \u001b[38;5;28mself\u001b[39m\u001b[38;5;241m.\u001b[39m_allow_stdin:\n\u001b[0;32m   1172\u001b[0m     \u001b[38;5;28;01mraise\u001b[39;00m StdinNotImplementedError(\n\u001b[0;32m   1173\u001b[0m         \u001b[38;5;124m\"\u001b[39m\u001b[38;5;124mraw_input was called, but this frontend does not support input requests.\u001b[39m\u001b[38;5;124m\"\u001b[39m\n\u001b[0;32m   1174\u001b[0m     )\n\u001b[1;32m-> 1175\u001b[0m \u001b[38;5;28;01mreturn\u001b[39;00m \u001b[38;5;28;43mself\u001b[39;49m\u001b[38;5;241;43m.\u001b[39;49m\u001b[43m_input_request\u001b[49m\u001b[43m(\u001b[49m\n\u001b[0;32m   1176\u001b[0m \u001b[43m    \u001b[49m\u001b[38;5;28;43mstr\u001b[39;49m\u001b[43m(\u001b[49m\u001b[43mprompt\u001b[49m\u001b[43m)\u001b[49m\u001b[43m,\u001b[49m\n\u001b[0;32m   1177\u001b[0m \u001b[43m    \u001b[49m\u001b[38;5;28;43mself\u001b[39;49m\u001b[38;5;241;43m.\u001b[39;49m\u001b[43m_parent_ident\u001b[49m\u001b[43m[\u001b[49m\u001b[38;5;124;43m\"\u001b[39;49m\u001b[38;5;124;43mshell\u001b[39;49m\u001b[38;5;124;43m\"\u001b[39;49m\u001b[43m]\u001b[49m\u001b[43m,\u001b[49m\n\u001b[0;32m   1178\u001b[0m \u001b[43m    \u001b[49m\u001b[38;5;28;43mself\u001b[39;49m\u001b[38;5;241;43m.\u001b[39;49m\u001b[43mget_parent\u001b[49m\u001b[43m(\u001b[49m\u001b[38;5;124;43m\"\u001b[39;49m\u001b[38;5;124;43mshell\u001b[39;49m\u001b[38;5;124;43m\"\u001b[39;49m\u001b[43m)\u001b[49m\u001b[43m,\u001b[49m\n\u001b[0;32m   1179\u001b[0m \u001b[43m    \u001b[49m\u001b[43mpassword\u001b[49m\u001b[38;5;241;43m=\u001b[39;49m\u001b[38;5;28;43;01mFalse\u001b[39;49;00m\u001b[43m,\u001b[49m\n\u001b[0;32m   1180\u001b[0m \u001b[43m\u001b[49m\u001b[43m)\u001b[49m\n",
      "File \u001b[1;32m~\\anaconda3\\lib\\site-packages\\ipykernel\\kernelbase.py:1217\u001b[0m, in \u001b[0;36mKernel._input_request\u001b[1;34m(self, prompt, ident, parent, password)\u001b[0m\n\u001b[0;32m   1214\u001b[0m             \u001b[38;5;28;01mbreak\u001b[39;00m\n\u001b[0;32m   1215\u001b[0m \u001b[38;5;28;01mexcept\u001b[39;00m \u001b[38;5;167;01mKeyboardInterrupt\u001b[39;00m:\n\u001b[0;32m   1216\u001b[0m     \u001b[38;5;66;03m# re-raise KeyboardInterrupt, to truncate traceback\u001b[39;00m\n\u001b[1;32m-> 1217\u001b[0m     \u001b[38;5;28;01mraise\u001b[39;00m \u001b[38;5;167;01mKeyboardInterrupt\u001b[39;00m(\u001b[38;5;124m\"\u001b[39m\u001b[38;5;124mInterrupted by user\u001b[39m\u001b[38;5;124m\"\u001b[39m) \u001b[38;5;28;01mfrom\u001b[39;00m \u001b[38;5;28;01mNone\u001b[39;00m\n\u001b[0;32m   1218\u001b[0m \u001b[38;5;28;01mexcept\u001b[39;00m \u001b[38;5;167;01mException\u001b[39;00m:\n\u001b[0;32m   1219\u001b[0m     \u001b[38;5;28mself\u001b[39m\u001b[38;5;241m.\u001b[39mlog\u001b[38;5;241m.\u001b[39mwarning(\u001b[38;5;124m\"\u001b[39m\u001b[38;5;124mInvalid Message:\u001b[39m\u001b[38;5;124m\"\u001b[39m, exc_info\u001b[38;5;241m=\u001b[39m\u001b[38;5;28;01mTrue\u001b[39;00m)\n",
      "\u001b[1;31mKeyboardInterrupt\u001b[0m: Interrupted by user"
     ]
    }
   ],
   "source": [
    "# input()\n",
    "# Signature: input(prompt=None, /)\n",
    "# Docstring:\n",
    "# Read a string from standard input.  The trailing newline is stripped.\n",
    "input(\"Enter your Name\")"
   ]
  },
  {
   "cell_type": "code",
   "execution_count": 2,
   "id": "6247db55",
   "metadata": {
    "collapsed": true
   },
   "outputs": [
    {
     "name": "stdout",
     "output_type": "stream",
     "text": [
      "Enter First Number34\n",
      "Enter Second Number56\n",
      "3456\n"
     ]
    }
   ],
   "source": [
    "# Saving User Input into variable\n",
    "first_num = input(\"Enter First Number\")\n",
    "second_num = input(\"Enter Second Number\")\n",
    "result = first_num + second_num\n",
    "print(result)"
   ]
  },
  {
   "cell_type": "code",
   "execution_count": 3,
   "id": "0d99485b",
   "metadata": {
    "collapsed": true
   },
   "outputs": [
    {
     "name": "stdout",
     "output_type": "stream",
     "text": [
      "<class 'str'>\n",
      "<class 'int'>\n",
      "<class 'float'>\n",
      "<class 'complex'>\n",
      "<class 'list'>\n"
     ]
    }
   ],
   "source": [
    "# By default received input is in string type, so string concatenation (+)is done insteaded of mathematical operation +  \n",
    "# How to know data type of any variable\n",
    "# Init signature: type(self, /, *args, **kwargs)\n",
    "# Docstring:     \n",
    "# type(object_or_name, bases, dict)\n",
    "# type(object) -> the object's type\n",
    "print(type('A'))\n",
    "print(type(4))\n",
    "print(type(3.14))\n",
    "print(type(3+4j))\n",
    "print(type([1,2,3,4]))"
   ]
  },
  {
   "cell_type": "markdown",
   "id": "5016bd08",
   "metadata": {},
   "source": [
    "# Type Conversion"
   ]
  },
  {
   "cell_type": "code",
   "execution_count": 4,
   "id": "aafa839c",
   "metadata": {
    "collapsed": true
   },
   "outputs": [
    {
     "data": {
      "text/plain": [
       "9.6"
      ]
     },
     "execution_count": 4,
     "metadata": {},
     "output_type": "execute_result"
    }
   ],
   "source": [
    "# Implicit Type Conversion\n",
    "4 + 5.6"
   ]
  },
  {
   "cell_type": "code",
   "execution_count": 6,
   "id": "105a1a7f",
   "metadata": {
    "collapsed": true
   },
   "outputs": [
    {
     "data": {
      "text/plain": [
       "4"
      ]
     },
     "execution_count": 6,
     "metadata": {},
     "output_type": "execute_result"
    }
   ],
   "source": [
    "# Explicit Type Conversion\n",
    "int(4.5)"
   ]
  },
  {
   "cell_type": "code",
   "execution_count": 7,
   "id": "05e364ab",
   "metadata": {
    "collapsed": true
   },
   "outputs": [
    {
     "data": {
      "text/plain": [
       "6.0"
      ]
     },
     "execution_count": 7,
     "metadata": {},
     "output_type": "execute_result"
    }
   ],
   "source": [
    "float(6)"
   ]
  },
  {
   "cell_type": "code",
   "execution_count": 8,
   "id": "f02c1963",
   "metadata": {
    "collapsed": true
   },
   "outputs": [
    {
     "data": {
      "text/plain": [
       "(4+0j)"
      ]
     },
     "execution_count": 8,
     "metadata": {},
     "output_type": "execute_result"
    }
   ],
   "source": [
    "complex(4)"
   ]
  },
  {
   "cell_type": "code",
   "execution_count": 9,
   "id": "70f0b5b5",
   "metadata": {
    "collapsed": true
   },
   "outputs": [
    {
     "data": {
      "text/plain": [
       "'123'"
      ]
     },
     "execution_count": 9,
     "metadata": {},
     "output_type": "execute_result"
    }
   ],
   "source": [
    "str(123)"
   ]
  },
  {
   "cell_type": "code",
   "execution_count": 10,
   "id": "b48acf59",
   "metadata": {
    "collapsed": true
   },
   "outputs": [
    {
     "data": {
      "text/plain": [
       "True"
      ]
     },
     "execution_count": 10,
     "metadata": {},
     "output_type": "execute_result"
    }
   ],
   "source": [
    "bool(1)"
   ]
  },
  {
   "cell_type": "code",
   "execution_count": 1,
   "id": "6a3208a9",
   "metadata": {
    "collapsed": true
   },
   "outputs": [
    {
     "data": {
      "text/plain": [
       "['H', 'e', 'l', 'l', 'o']"
      ]
     },
     "execution_count": 1,
     "metadata": {},
     "output_type": "execute_result"
    }
   ],
   "source": [
    "list('Hello')"
   ]
  },
  {
   "cell_type": "code",
   "execution_count": 2,
   "id": "6d60daa7",
   "metadata": {
    "collapsed": true
   },
   "outputs": [
    {
     "ename": "ValueError",
     "evalue": "invalid literal for int() with base 10: 'Mumbai'",
     "output_type": "error",
     "traceback": [
      "\u001b[1;31m---------------------------------------------------------------------------\u001b[0m",
      "\u001b[1;31mValueError\u001b[0m                                Traceback (most recent call last)",
      "Cell \u001b[1;32mIn[2], line 2\u001b[0m\n\u001b[0;32m      1\u001b[0m \u001b[38;5;66;03m# You can only pass logically convertable parameter e.g. \u001b[39;00m\n\u001b[1;32m----> 2\u001b[0m \u001b[38;5;28;43mint\u001b[39;49m\u001b[43m(\u001b[49m\u001b[38;5;124;43m'\u001b[39;49m\u001b[38;5;124;43mMumbai\u001b[39;49m\u001b[38;5;124;43m'\u001b[39;49m\u001b[43m)\u001b[49m\n",
      "\u001b[1;31mValueError\u001b[0m: invalid literal for int() with base 10: 'Mumbai'"
     ]
    }
   ],
   "source": [
    "# You can only pass logically convertable parameter e.g. \n",
    "int('Mumbai')\n",
    "# will give error"
   ]
  },
  {
   "cell_type": "code",
   "execution_count": 3,
   "id": "de708207",
   "metadata": {
    "collapsed": true
   },
   "outputs": [
    {
     "data": {
      "text/plain": [
       "4"
      ]
     },
     "execution_count": 3,
     "metadata": {},
     "output_type": "execute_result"
    }
   ],
   "source": [
    "# All these type conversions are tmporary, not permenent operation, will not convert original value\n",
    "a = 4.5\n",
    "int(a)"
   ]
  },
  {
   "cell_type": "code",
   "execution_count": 4,
   "id": "9a1e0c33",
   "metadata": {
    "collapsed": true
   },
   "outputs": [
    {
     "data": {
      "text/plain": [
       "4.5"
      ]
     },
     "execution_count": 4,
     "metadata": {},
     "output_type": "execute_result"
    }
   ],
   "source": [
    "a"
   ]
  },
  {
   "cell_type": "code",
   "execution_count": 5,
   "id": "6c39718a",
   "metadata": {
    "collapsed": true
   },
   "outputs": [
    {
     "name": "stdout",
     "output_type": "stream",
     "text": [
      "Enter First Number45\n",
      "Enter Second Number33\n",
      "78\n"
     ]
    }
   ],
   "source": [
    "# Converting User Input into integer and then try it...\n",
    "first_num = int(input(\"Enter First Number\"))\n",
    "second_num = int(input(\"Enter Second Number\"))\n",
    "result = first_num + second_num\n",
    "print(result)"
   ]
  },
  {
   "cell_type": "markdown",
   "id": "97d4fe00",
   "metadata": {},
   "source": [
    "# Literals"
   ]
  },
  {
   "cell_type": "code",
   "execution_count": 7,
   "id": "0b685103",
   "metadata": {
    "collapsed": true
   },
   "outputs": [
    {
     "name": "stdout",
     "output_type": "stream",
     "text": [
      "10\n",
      "9\n",
      "439\n",
      "76435\n",
      "1.345\n",
      "150.0\n",
      "0.013\n",
      "3.14j 0.0 3.14\n"
     ]
    }
   ],
   "source": [
    "# Literal: Raw data given to variable, In python 4 types of Literals -\n",
    "\n",
    "# 1.Numeric Literals\n",
    "\n",
    "a = 0b1010 # Binary\n",
    "b = 0o11 # Octal\n",
    "c = 439 # Decimal\n",
    "d = 0x12A93 # Hexadecimal\n",
    "\n",
    "# Float\n",
    "e = 1.345\n",
    "f = 1.5e2 # 1.5 10^2\n",
    "g = 1.3e-2 # 1.3 10^-3\n",
    "\n",
    "# Complex, we can access real and imaginary part seperately\n",
    "h = 3.14j\n",
    "print(a)\n",
    "print(b)\n",
    "print(c)\n",
    "print(d)\n",
    "print(e)\n",
    "print(f)\n",
    "print(g)\n",
    "print(h,h.real,h.imag)"
   ]
  },
  {
   "cell_type": "code",
   "execution_count": 9,
   "id": "b1193001",
   "metadata": {
    "collapsed": true
   },
   "outputs": [
    {
     "name": "stdout",
     "output_type": "stream",
     "text": [
      "one way\n",
      "another way\n",
      "c\n",
      "This is \n",
      "                              multiline \n",
      "                                        string\n",
      "😀😆🤣\n",
      "raw \\n string\n"
     ]
    }
   ],
   "source": [
    "# 2. String Literals\n",
    "str1 = 'one way'\n",
    "str2 = \"another way\"\n",
    "char = \"c\" # we can initilize single character but it will be treated as string\n",
    "multi_linear_str = \"\"\"This is \n",
    "                              multiline \n",
    "                                        string\"\"\"\n",
    "unicode = u\"\\U0001f600\\U0001F606\\U0001F923\"\n",
    "raw_str = r\"raw \\n string\"\n",
    "print(str1)\n",
    "print(str2)\n",
    "print(char)\n",
    "print(multi_linear_str)\n",
    "print(unicode)\n",
    "print(raw_str)"
   ]
  },
  {
   "cell_type": "code",
   "execution_count": 11,
   "id": "af9890c2",
   "metadata": {
    "collapsed": true
   },
   "outputs": [
    {
     "name": "stdout",
     "output_type": "stream",
     "text": [
      "5\n",
      "6\n"
     ]
    }
   ],
   "source": [
    "# 3. Boolean Literals\n",
    "a = True + 4\n",
    "b = 6 - False\n",
    "print(a)\n",
    "print(b)"
   ]
  },
  {
   "cell_type": "code",
   "execution_count": 12,
   "id": "d37817e7",
   "metadata": {
    "collapsed": true
   },
   "outputs": [
    {
     "name": "stdout",
     "output_type": "stream",
     "text": [
      "None\n"
     ]
    }
   ],
   "source": [
    "# 4. Special Literals \n",
    "# You can't declare the variable in python, so if you just want to create variable for future use\n",
    "# and Nothing is to be assigned to variable, even not 0, then you can use this - as a safest way to declare variable\n",
    "n = None\n",
    "print(n)"
   ]
  },
  {
   "cell_type": "markdown",
   "id": "699c78cb",
   "metadata": {},
   "source": [
    "# Operators in Python"
   ]
  },
  {
   "cell_type": "code",
   "execution_count": null,
   "id": "e5561fff",
   "metadata": {},
   "outputs": [],
   "source": [
    "# Operators are used to perform some operation on variables, following types of Operators are offered by Python\n",
    "# 1. Arithmetic\n",
    "# 2. Comparison / Relational\n",
    "# 3. Logical\n",
    "# 4. Bitwise\n",
    "# 5. Assignment\n",
    "# 6. Identity\n",
    "# 7. Membership"
   ]
  },
  {
   "cell_type": "code",
   "execution_count": 16,
   "id": "ecbb212d",
   "metadata": {
    "collapsed": true
   },
   "outputs": [
    {
     "name": "stdout",
     "output_type": "stream",
     "text": [
      "8\n",
      "2\n",
      "15\n",
      "1.6666666666666667\n",
      "1\n",
      "2\n",
      "125\n"
     ]
    }
   ],
   "source": [
    "# 1. Arithmetic Operators\n",
    "x = 5\n",
    "y = 3\n",
    "# Addition\n",
    "print(x + y)\n",
    "\n",
    "# Subtraction\n",
    "print(x - y)\n",
    "\n",
    "# Multiplication\n",
    "print(x * y)\n",
    "\n",
    "# Division\n",
    "print(x / y)\n",
    "\n",
    "# Integer Division\n",
    "print(x//y)\n",
    "\n",
    "# Modulus\n",
    "print(x % y)\n",
    "\n",
    "# Power of \n",
    "print(x ** y)\n"
   ]
  },
  {
   "cell_type": "code",
   "execution_count": 21,
   "id": "8fa280a6",
   "metadata": {
    "collapsed": true
   },
   "outputs": [
    {
     "name": "stdout",
     "output_type": "stream",
     "text": [
      "False\n",
      "True\n",
      "False\n",
      "True\n",
      "False\n",
      "True\n"
     ]
    }
   ],
   "source": [
    "# 2. Comparison / Relational returns true / false\n",
    "p = 10\n",
    "q = 4\n",
    "# is equal to ==\n",
    "print(p==q)\n",
    "\n",
    "# is not equal to !=\n",
    "print(p!=q)\n",
    "\n",
    "# is less than <\n",
    "print(p<q)\n",
    "\n",
    "# is greater than >\n",
    "print(p>q)\n",
    "\n",
    "# is less than or equal to <=\n",
    "print(p<=q)\n",
    "\n",
    "# is greater than or equal to >= \n",
    "print(p>=q)"
   ]
  },
  {
   "cell_type": "code",
   "execution_count": 22,
   "id": "7b692f21",
   "metadata": {
    "collapsed": true
   },
   "outputs": [
    {
     "name": "stdout",
     "output_type": "stream",
     "text": [
      "True\n",
      "False\n",
      "False\n"
     ]
    }
   ],
   "source": [
    "# 3. Logical Operators\n",
    "t = True\n",
    "f = False\n",
    "\n",
    "# Logical OR \n",
    "print(t or f)\n",
    "\n",
    "# Logical AND\n",
    "print(t and f)\n",
    "\n",
    "# Lofical NOT\n",
    "print(not t)"
   ]
  },
  {
   "cell_type": "code",
   "execution_count": 23,
   "id": "7337826f",
   "metadata": {
    "collapsed": true
   },
   "outputs": [
    {
     "name": "stdout",
     "output_type": "stream",
     "text": [
      "3\n",
      "2\n",
      "8\n",
      "0\n",
      "-3\n"
     ]
    }
   ],
   "source": [
    "# 4. Bitwise Operators, considers binary values and performs binary bitwise operations, \n",
    "# mostly used in image processing while appling filters or wherever binary operations are involved\n",
    "m = 2\n",
    "n = 3\n",
    "\n",
    "# Bitwise OR\n",
    "print(m | n)\n",
    "\n",
    "# Bitwise AND\n",
    "print(m & n)\n",
    "\n",
    "# Bitwise Left-shift by 2 bit\n",
    "print(m << 2)\n",
    "\n",
    "# Bitwise Right-shift by 3 bit\n",
    "print(n >> 3)\n",
    "\n",
    "# 1's Complement\n",
    "print(~m)"
   ]
  },
  {
   "cell_type": "code",
   "execution_count": 25,
   "id": "c9cdd95b",
   "metadata": {
    "collapsed": true
   },
   "outputs": [
    {
     "name": "stdout",
     "output_type": "stream",
     "text": [
      "33\n",
      "35\n",
      "30\n",
      "150\n",
      "4\n"
     ]
    }
   ],
   "source": [
    "# 5. Assignment Operator\n",
    "z = 33\n",
    "print(z)\n",
    "\n",
    "z += 2\n",
    "print (z)\n",
    "\n",
    "z -= 5\n",
    "print (z)\n",
    "\n",
    "z *= 5\n",
    "print (z)\n",
    "\n",
    "z &= 5\n",
    "print (z)"
   ]
  },
  {
   "cell_type": "code",
   "execution_count": 26,
   "id": "e624134c",
   "metadata": {
    "collapsed": true
   },
   "outputs": [
    {
     "name": "stdout",
     "output_type": "stream",
     "text": [
      "True\n",
      "True\n",
      "False\n"
     ]
    }
   ],
   "source": [
    "# 6. Identity Operator, identifies whether two different variables with same value are at same memory location or not\n",
    "#    Returns True or False e.g.\n",
    "\n",
    "a = 44\n",
    "b = 44\n",
    "print (a is b)\n",
    "\n",
    "a = 'Hello'\n",
    "b = 'Hello'\n",
    "print (a is b)\n",
    "\n",
    "a = [1,2,3]\n",
    "b = [1,2,3]\n",
    "print (a is b)"
   ]
  },
  {
   "cell_type": "code",
   "execution_count": 30,
   "id": "87fa900b",
   "metadata": {
    "collapsed": true
   },
   "outputs": [
    {
     "name": "stdout",
     "output_type": "stream",
     "text": [
      "True\n",
      "False\n",
      "True\n"
     ]
    }
   ],
   "source": [
    "# 7. Membership Operator,very important and useful \n",
    "#    checks whether a perticular 'x' is present in 'A' e.g.\n",
    "name = 'Deepak'\n",
    "print( \"p\" in name)\n",
    "print( \"k\" not in name)\n",
    "\n",
    "my_list = ['a','1','0b']\n",
    "print(\"1\" in my_list)"
   ]
  },
  {
   "cell_type": "markdown",
   "id": "25dac571",
   "metadata": {},
   "source": [
    "# Indentation"
   ]
  },
  {
   "cell_type": "code",
   "execution_count": null,
   "id": "b0bce433",
   "metadata": {},
   "outputs": [],
   "source": [
    "# Python does not use { } to specify block of code..even it does not use ; to indicate end of statement\n",
    "# instead it forces to use proper indentation...e.g. In other programming languages like C we have code -\n",
    "# if (condition){\n",
    "#     Do something\n",
    "# }\n",
    "# else {\n",
    "#     Do something-else\n",
    "# }"
   ]
  },
  {
   "cell_type": "code",
   "execution_count": null,
   "id": "bda3cbd7",
   "metadata": {},
   "outputs": [],
   "source": [
    "# The Python way is - identation, to identify block of code...use TAB only not SPACEBAR for giving proper identation\n",
    "# It increases code readability\n",
    "# if condition :\n",
    "#     do something\n",
    "# else:\n",
    "#     do something-else"
   ]
  },
  {
   "cell_type": "markdown",
   "id": "bad3f149",
   "metadata": {},
   "source": [
    "# If - else : Decision Making "
   ]
  },
  {
   "cell_type": "code",
   "execution_count": 7,
   "id": "ad13729d",
   "metadata": {
    "collapsed": true
   },
   "outputs": [
    {
     "name": "stdout",
     "output_type": "stream",
     "text": [
      "Enter your mail-iddeep\n",
      "Email must contain @\n"
     ]
    }
   ],
   "source": [
    "email = 'deepmahajan@gmail.com'\n",
    "passwd = '1234'\n",
    "rec_mail = input(\"Enter your mail-id\")\n",
    "if '@' in rec_mail:\n",
    "    rec_passwd = input(\"Enter your PAssword\")\n",
    "    if rec_mail == email and rec_passwd == passwd :\n",
    "        print(\"Welcome\")\n",
    "    elif rec_mail == email and rec_passwd != passwd :\n",
    "        print(\"Wrong Password\")\n",
    "    elif rec_mail != email and rec_passwd == passwd :\n",
    "        print(\"Wrong Email\")\n",
    "    else :\n",
    "        print(\"Wrong Email and Password\")\n",
    "else:\n",
    "    print(\"Email must contain @\")"
   ]
  },
  {
   "cell_type": "markdown",
   "id": "bce28502",
   "metadata": {},
   "source": [
    "# Loop : Iteration Control using while and for loop"
   ]
  },
  {
   "cell_type": "code",
   "execution_count": 3,
   "id": "d48ef385",
   "metadata": {
    "collapsed": true
   },
   "outputs": [
    {
     "name": "stdout",
     "output_type": "stream",
     "text": [
      "Input Number23\n",
      "23\n",
      "46\n",
      "69\n",
      "92\n",
      "115\n",
      "138\n",
      "161\n",
      "184\n",
      "207\n",
      "230\n",
      "Now we will use for loop\n",
      "2\n",
      "3\n",
      "4\n",
      "5\n",
      "0\n",
      "1\n"
     ]
    }
   ],
   "source": [
    "# while loop:\n",
    "my_while_loop = 1\n",
    "num = int(input(\"Input Number\"))\n",
    "while my_while_loop < 11:\n",
    "    print(num*my_while_loop)\n",
    "    my_while_loop += 1\n",
    "\n",
    "# for loop:\n",
    "l=[1,2,3,4,5,0]\n",
    "print(\"Now we will use for loop\")\n",
    "for i in l:\n",
    "    print(l[i])"
   ]
  },
  {
   "cell_type": "markdown",
   "id": "01dd6725",
   "metadata": {},
   "source": [
    "# Range Function"
   ]
  },
  {
   "cell_type": "code",
   "execution_count": 6,
   "id": "624095cd",
   "metadata": {
    "collapsed": true
   },
   "outputs": [
    {
     "name": "stdout",
     "output_type": "stream",
     "text": [
      "[0, 1, 2, 3, 4]\n",
      "[1, 2, 3, 4]\n",
      "[1, 3, 5, 7, 9]\n",
      "[10, 9, 8, 7, 6, 5, 4, 3, 2]\n"
     ]
    }
   ],
   "source": [
    "# range(): Init signature: range(self, /, *args, **kwargs)\n",
    "# Docstring: \n",
    "\n",
    "# range(stop) -> range object\n",
    "r1 = list(range(5)) # if we pass only parameter, it will consider it as stop range, and start will be taken as 0\n",
    "print(r1)\n",
    "\n",
    "# range(start, stop[, step]) -> range object\n",
    "r2 = list(range(1,5)) # will give 1 to 4, 5 is excluded\n",
    "print(r2)\n",
    "\n",
    "# start is included, stop is excluded\n",
    "r3 = list(range(1,10,2)) # will start at 1, take step of 2, so go on 3 after 1 and so on...\n",
    "print(r3)\n",
    "\n",
    "r4 = range(10,1,-1)\n",
    "print(list(r4))\n"
   ]
  },
  {
   "cell_type": "code",
   "execution_count": 8,
   "id": "83c87863",
   "metadata": {
    "collapsed": true
   },
   "outputs": [
    {
     "name": "stdout",
     "output_type": "stream",
     "text": [
      "1\n",
      "2\n",
      "3\n",
      "4\n",
      "5\n",
      "6\n",
      "7\n",
      "8\n",
      "9\n",
      "10\n"
     ]
    }
   ],
   "source": [
    "# for loop with range \n",
    "for i in range(1,11):\n",
    "    print(i)"
   ]
  },
  {
   "cell_type": "code",
   "execution_count": 13,
   "id": "106bce56",
   "metadata": {
    "collapsed": true
   },
   "outputs": [
    {
     "name": "stdout",
     "output_type": "stream",
     "text": [
      "P\n",
      "Y\n",
      "T\n",
      "H\n",
      "O\n",
      "N\n",
      "One\n",
      "Two\n",
      "Three\n",
      "Orange\n",
      "White\n",
      "Green\n",
      "Alpha\n",
      "Beta\n",
      "Gama\n"
     ]
    }
   ],
   "source": [
    "# In python, list, tuples, sets, dictionaries all are considered as a sequence of elements\n",
    "\n",
    "# for loop with sequence\n",
    "\n",
    "for i in \"PYTHON\": # sequence of characters\n",
    "    print(i)\n",
    "    \n",
    "for j in [\"One\", \"Two\", \"Three\"]: # list is sequence of elements\n",
    "    print(j)\n",
    "    \n",
    "for k in ('Orange', 'White', 'Green'): # tuple is sequence of elements\n",
    "    print(k)\n",
    "    \n",
    "for l in {\"Alpha\",\"Beta\",\"Gama\"}: # list is sequence of elements\n",
    "    print(l)"
   ]
  },
  {
   "cell_type": "markdown",
   "id": "c10f9271",
   "metadata": {},
   "source": [
    "# Small_Game for Fun"
   ]
  },
  {
   "cell_type": "code",
   "execution_count": 24,
   "id": "cb2d7e78",
   "metadata": {
    "collapsed": true
   },
   "outputs": [
    {
     "name": "stdout",
     "output_type": "stream",
     "text": [
      "Guess the number between 1 to 100 : 50\n",
      "Guess Higher75\n",
      "Guess Lower65\n",
      "Guess Higher70\n",
      "Guess Lower68\n",
      "Guess Higher66\n",
      "Guess Higher67\n",
      "Guess Higher68\n",
      "Guess Higher69\n",
      "You Guessed it right in 8 attempts\n"
     ]
    }
   ],
   "source": [
    "import random\n",
    "jackpot = random.randint(1,100)\n",
    "no_of_guesses = 0\n",
    "# print(jackpot)\n",
    "guess = int(input(\"Guess the number between 1 to 100 : \"))\n",
    "while guess!=jackpot:\n",
    "    if guess > jackpot:\n",
    "        guess = int(input(\"Guess Lower\"))\n",
    "        no_of_guesses += 1\n",
    "    else:\n",
    "        guess = int(input(\"Guess Higher\"))\n",
    "        no_of_guesses += 1     \n",
    "print(\"You Guessed it right in \"+ str(no_of_guesses)+ \" attempts\")\n",
    "    "
   ]
  },
  {
   "cell_type": "markdown",
   "id": "8594e4d0",
   "metadata": {},
   "source": [
    "# Nested Loops"
   ]
  },
  {
   "cell_type": "code",
   "execution_count": 35,
   "id": "67d776f3",
   "metadata": {
    "collapsed": true
   },
   "outputs": [
    {
     "name": "stdout",
     "output_type": "stream",
     "text": [
      "Enter No. of Rows5\n",
      "* \n",
      "* * \n",
      "* * * \n",
      "* * * * \n",
      "* * * * * \n"
     ]
    }
   ],
   "source": [
    "rows = int(input(\"Enter No. of Rows\"))\n",
    "for i in range(1,rows+1):\n",
    "    for j in range(0,i):\n",
    "        print(\"*\", end=\" \")\n",
    "    print(\"\")"
   ]
  },
  {
   "cell_type": "code",
   "execution_count": null,
   "id": "eb36425e",
   "metadata": {},
   "outputs": [],
   "source": [
    "# Use pythontutor for better visualization of code\n",
    "# https://pythontutor.com/render.html"
   ]
  },
  {
   "cell_type": "markdown",
   "id": "f54751e6",
   "metadata": {},
   "source": [
    "# Break, Continue and Pass"
   ]
  },
  {
   "cell_type": "code",
   "execution_count": 26,
   "id": "cd7c5b5c",
   "metadata": {
    "collapsed": true
   },
   "outputs": [
    {
     "name": "stdout",
     "output_type": "stream",
     "text": [
      "1\n",
      "2\n",
      "3\n",
      "4\n"
     ]
    }
   ],
   "source": [
    "# Break: to break the loop on certain condition\n",
    "for i in range(1,11):\n",
    "    if i == 5:\n",
    "        break\n",
    "    print(i)"
   ]
  },
  {
   "cell_type": "code",
   "execution_count": 32,
   "id": "5dd86db9",
   "metadata": {
    "collapsed": true
   },
   "outputs": [
    {
     "name": "stdout",
     "output_type": "stream",
     "text": [
      "Hi\n",
      "continue playing for 1\n",
      "Hi\n",
      "continue playing for 2\n",
      "Hi\n",
      "continue playing for 3\n",
      "Hi\n",
      "continue playing for 4\n",
      "Hi\n",
      "continue playing for 5\n",
      "Hi\n",
      "continue playing for 6\n",
      "Hi\n",
      "continue playing for 8\n",
      "Hi\n",
      "continue playing for 9\n"
     ]
    }
   ],
   "source": [
    "# Continue: To skip part of code and continue with loop\n",
    "for i in range(1,10):\n",
    "    if i == 7:\n",
    "        continue\n",
    "    print(\"Hi\")\n",
    "    print(\"continue playing for \" + str(i))"
   ]
  },
  {
   "cell_type": "code",
   "execution_count": 34,
   "id": "3ecd3bb4",
   "metadata": {},
   "outputs": [
    {
     "name": "stdout",
     "output_type": "stream",
     "text": [
      "We will come back to deal with this for loop\n"
     ]
    }
   ],
   "source": [
    "# Pass: if you just want to keep some code which is not complete, you may want to continue further part of code\n",
    "# e.g. we want for loop here but not confirm about what to do in loop, we can simply pass this part of code \n",
    "\n",
    "for i in range(1,10):\n",
    "    pass\n",
    "print(\"We will come back to deal with this for loop\")"
   ]
  },
  {
   "cell_type": "markdown",
   "id": "797d9b4a",
   "metadata": {},
   "source": [
    "# Some Useful Built-in-Functions "
   ]
  },
  {
   "cell_type": "code",
   "execution_count": null,
   "id": "d29e24f1",
   "metadata": {},
   "outputs": [],
   "source": [
    "# print()\n",
    "\n",
    "# input()\n",
    "\n",
    "# type()\n",
    "\n",
    "# int()\n",
    "\n",
    "# abs()\n",
    "\n",
    "# pow()\n",
    "\n",
    "# min()\n",
    "\n",
    "# max()\n",
    "\n",
    "# round()\n",
    "\n",
    "# divmod()\n",
    "\n",
    "# bin()\n",
    "\n",
    "# oct()\n",
    "\n",
    "# hex()\n",
    "\n",
    "# id() # returns the unique identifier of an object. The identifier is an integer, \n",
    "# which represents the memory address of the object,\n",
    "# commonly used to check if two variables or objects refer to the same memory location\n",
    "\n",
    "# ord() # returns the number representing the unicode code of a specified character.\n",
    "\n",
    "# len()\n",
    "\n",
    "# sum()\n",
    "\n",
    "# help()\n"
   ]
  },
  {
   "cell_type": "markdown",
   "id": "f907d957",
   "metadata": {},
   "source": [
    "# Built-in-Modules\n",
    "   \n",
    "   #similar to code library # A python file containing a set of functions you can include in your application for code     \n",
    "    reusability\n",
    "   e.g. Math\n",
    "        Random\n",
    "        os\n",
    "        time"
   ]
  },
  {
   "cell_type": "code",
   "execution_count": 1,
   "id": "019ff362",
   "metadata": {
    "collapsed": true
   },
   "outputs": [
    {
     "name": "stdout",
     "output_type": "stream",
     "text": [
      "\n",
      "Please wait a moment while I gather a list of all available modules...\n",
      "\n"
     ]
    },
    {
     "name": "stderr",
     "output_type": "stream",
     "text": [
      "WARNING: AstropyDeprecationWarning: The private astropy._erfa module has been made into its own package, pyerfa, which is a dependency of astropy and can be imported directly using \"import erfa\" [astropy._erfa]\n",
      "C:\\Users\\Deepak\\anaconda3\\lib\\site-packages\\torchvision\\io\\image.py:13: UserWarning: Failed to load image Python extension: 'Could not find module 'C:\\Users\\Deepak\\anaconda3\\Lib\\site-packages\\torchvision\\image.pyd' (or one of its dependencies). Try using the full path with constructor syntax.'If you don't plan on using image functionality from `torchvision.io`, you can ignore this warning. Otherwise, there might be something wrong with your environment. Did you have `libjpeg` or `libpng` installed before building `torchvision` from source?\n",
      "  warn(\n",
      "C:\\Users\\Deepak\\anaconda3\\lib\\site-packages\\paramiko\\transport.py:219: CryptographyDeprecationWarning: Blowfish has been deprecated\n",
      "  \"class\": algorithms.Blowfish,\n"
     ]
    },
    {
     "name": "stdout",
     "output_type": "stream",
     "text": [
      "Downloading https://dlib.net/files/shape_predictor_68_face_landmarks.dat.bz2 to C:\\Users\\Deepak/mlxtend_data/shape_predictor_68_face_landmarks.dat.bz2\n"
     ]
    },
    {
     "name": "stderr",
     "output_type": "stream",
     "text": [
      "C:\\Users\\Deepak\\anaconda3\\lib\\site-packages\\navigator_updater\\utils\\py3compat.py:77: DeprecationWarning: Using or importing the ABCs from 'collections' instead of from 'collections.abc' is deprecated since Python 3.3, and in 3.10 it will stop working\n",
      "  from collections import MutableMapping  # flake8: noqa\n",
      "C:\\Users\\Deepak\\anaconda3\\lib\\site-packages\\nltk\\twitter\\__init__.py:20: UserWarning: The twython library has not been installed. Some functionality from the twitter package will not be available.\n",
      "  warnings.warn(\n",
      "C:\\Users\\Deepak\\anaconda3\\lib\\site-packages\\notebook\\utils.py:280: DeprecationWarning: distutils Version classes are deprecated. Use packaging.version instead.\n",
      "  return LooseVersion(v) >= LooseVersion(check)\n",
      "C:\\Users\\Deepak\\anaconda3\\lib\\site-packages\\notebook\\utils.py:280: DeprecationWarning: distutils Version classes are deprecated. Use packaging.version instead.\n",
      "  return LooseVersion(v) >= LooseVersion(check)\n",
      "C:\\Users\\Deepak\\anaconda3\\lib\\pkgutil.py:92: NumbaPendingDeprecationWarning: The 'pycc' module is pending deprecation. Replacement technology is being developed.\n",
      "\n",
      "Pending Deprecation in Numba 0.57.0. For more information please see: https://numba.readthedocs.io/en/stable/reference/deprecation.html#deprecation-of-the-numba-pycc-module\n",
      "  __import__(info.name)\n",
      "C:\\Users\\Deepak\\anaconda3\\lib\\pkgutil.py:92: UserWarning: The numpy.array_api submodule is still experimental. See NEP 47.\n",
      "  __import__(info.name)\n",
      "C:\\Users\\Deepak\\anaconda3\\lib\\site-packages\\pip\\_vendor\\pkg_resources\\__init__.py:121: DeprecationWarning: pkg_resources is deprecated as an API\n",
      "  warnings.warn(\"pkg_resources is deprecated as an API\", DeprecationWarning)\n",
      "C:\\Users\\Deepak\\anaconda3\\lib\\site-packages\\pip\\_vendor\\pkg_resources\\__init__.py:2870: DeprecationWarning: Deprecated call to `pkg_resources.declare_namespace('google')`.\n",
      "Implementing implicit namespace packages (as specified in PEP 420) is preferred to `pkg_resources.declare_namespace`. See https://setuptools.pypa.io/en/latest/references/keywords.html#keyword-namespace-packages\n",
      "  declare_namespace(pkg)\n",
      "C:\\Users\\Deepak\\anaconda3\\lib\\site-packages\\pip\\_vendor\\pkg_resources\\__init__.py:2870: DeprecationWarning: Deprecated call to `pkg_resources.declare_namespace('mpl_toolkits')`.\n",
      "Implementing implicit namespace packages (as specified in PEP 420) is preferred to `pkg_resources.declare_namespace`. See https://setuptools.pypa.io/en/latest/references/keywords.html#keyword-namespace-packages\n",
      "  declare_namespace(pkg)\n",
      "C:\\Users\\Deepak\\anaconda3\\lib\\site-packages\\pip\\_vendor\\pkg_resources\\__init__.py:2870: DeprecationWarning: Deprecated call to `pkg_resources.declare_namespace('ruamel')`.\n",
      "Implementing implicit namespace packages (as specified in PEP 420) is preferred to `pkg_resources.declare_namespace`. See https://setuptools.pypa.io/en/latest/references/keywords.html#keyword-namespace-packages\n",
      "  declare_namespace(pkg)\n",
      "C:\\Users\\Deepak\\anaconda3\\lib\\site-packages\\pip\\_vendor\\pkg_resources\\__init__.py:2870: DeprecationWarning: Deprecated call to `pkg_resources.declare_namespace('ruamel')`.\n",
      "Implementing implicit namespace packages (as specified in PEP 420) is preferred to `pkg_resources.declare_namespace`. See https://setuptools.pypa.io/en/latest/references/keywords.html#keyword-namespace-packages\n",
      "  declare_namespace(pkg)\n",
      "C:\\Users\\Deepak\\anaconda3\\lib\\site-packages\\pip\\_vendor\\pkg_resources\\__init__.py:2870: DeprecationWarning: Deprecated call to `pkg_resources.declare_namespace('ruamel.yaml')`.\n",
      "Implementing implicit namespace packages (as specified in PEP 420) is preferred to `pkg_resources.declare_namespace`. See https://setuptools.pypa.io/en/latest/references/keywords.html#keyword-namespace-packages\n",
      "  declare_namespace(pkg)\n",
      "C:\\Users\\Deepak\\anaconda3\\lib\\site-packages\\pip\\_vendor\\pkg_resources\\__init__.py:2349: DeprecationWarning: Deprecated call to `pkg_resources.declare_namespace('ruamel')`.\n",
      "Implementing implicit namespace packages (as specified in PEP 420) is preferred to `pkg_resources.declare_namespace`. See https://setuptools.pypa.io/en/latest/references/keywords.html#keyword-namespace-packages\n",
      "  declare_namespace(parent)\n",
      "C:\\Users\\Deepak\\anaconda3\\lib\\site-packages\\pip\\_vendor\\pkg_resources\\__init__.py:2870: DeprecationWarning: Deprecated call to `pkg_resources.declare_namespace('sphinxcontrib')`.\n",
      "Implementing implicit namespace packages (as specified in PEP 420) is preferred to `pkg_resources.declare_namespace`. See https://setuptools.pypa.io/en/latest/references/keywords.html#keyword-namespace-packages\n",
      "  declare_namespace(pkg)\n",
      "C:\\Users\\Deepak\\anaconda3\\lib\\site-packages\\pip\\_vendor\\pkg_resources\\__init__.py:2870: DeprecationWarning: Deprecated call to `pkg_resources.declare_namespace('sphinxcontrib')`.\n",
      "Implementing implicit namespace packages (as specified in PEP 420) is preferred to `pkg_resources.declare_namespace`. See https://setuptools.pypa.io/en/latest/references/keywords.html#keyword-namespace-packages\n",
      "  declare_namespace(pkg)\n",
      "C:\\Users\\Deepak\\anaconda3\\lib\\site-packages\\pip\\_vendor\\pkg_resources\\__init__.py:2870: DeprecationWarning: Deprecated call to `pkg_resources.declare_namespace('sphinxcontrib')`.\n",
      "Implementing implicit namespace packages (as specified in PEP 420) is preferred to `pkg_resources.declare_namespace`. See https://setuptools.pypa.io/en/latest/references/keywords.html#keyword-namespace-packages\n",
      "  declare_namespace(pkg)\n",
      "C:\\Users\\Deepak\\anaconda3\\lib\\site-packages\\pip\\_vendor\\pkg_resources\\__init__.py:2870: DeprecationWarning: Deprecated call to `pkg_resources.declare_namespace('sphinxcontrib')`.\n",
      "Implementing implicit namespace packages (as specified in PEP 420) is preferred to `pkg_resources.declare_namespace`. See https://setuptools.pypa.io/en/latest/references/keywords.html#keyword-namespace-packages\n",
      "  declare_namespace(pkg)\n",
      "C:\\Users\\Deepak\\anaconda3\\lib\\site-packages\\pip\\_vendor\\pkg_resources\\__init__.py:2870: DeprecationWarning: Deprecated call to `pkg_resources.declare_namespace('sphinxcontrib')`.\n",
      "Implementing implicit namespace packages (as specified in PEP 420) is preferred to `pkg_resources.declare_namespace`. See https://setuptools.pypa.io/en/latest/references/keywords.html#keyword-namespace-packages\n",
      "  declare_namespace(pkg)\n",
      "C:\\Users\\Deepak\\anaconda3\\lib\\site-packages\\pip\\_vendor\\pkg_resources\\__init__.py:2870: DeprecationWarning: Deprecated call to `pkg_resources.declare_namespace('sphinxcontrib')`.\n",
      "Implementing implicit namespace packages (as specified in PEP 420) is preferred to `pkg_resources.declare_namespace`. See https://setuptools.pypa.io/en/latest/references/keywords.html#keyword-namespace-packages\n",
      "  declare_namespace(pkg)\n",
      "C:\\Users\\Deepak\\anaconda3\\lib\\site-packages\\pip\\_vendor\\pkg_resources\\__init__.py:2870: DeprecationWarning: Deprecated call to `pkg_resources.declare_namespace('zope')`.\n",
      "Implementing implicit namespace packages (as specified in PEP 420) is preferred to `pkg_resources.declare_namespace`. See https://setuptools.pypa.io/en/latest/references/keywords.html#keyword-namespace-packages\n",
      "  declare_namespace(pkg)\n",
      "C:\\Users\\Deepak\\anaconda3\\lib\\pkgutil.py:92: UserWarning:\n",
      "\n",
      "viewer requires Qt\n",
      "\n",
      "No QCoreApplication instance found. Application patches not applied. You have to call load_stylesheet function after instantiation of QApplication to take effect. \n",
      "C:\\Users\\Deepak\\anaconda3\\lib\\site-packages\\tensorboard\\_vendor\\html5lib\\filters\\sanitizer.py:29: DeprecationWarning:\n",
      "\n",
      "html5lib's sanitizer is deprecated; see https://github.com/html5lib/html5lib-python/issues/443 and please let us know if Bleach is unsuitable for your needs\n",
      "\n",
      "C:\\Users\\Deepak\\anaconda3\\lib\\site-packages\\torch\\distributed\\_shard\\checkpoint\\__init__.py:8: DeprecationWarning:\n",
      "\n",
      "torch.distributed._shard.checkpoint will be deprecated, use torch.distributed.checkpoint instead\n",
      "\n",
      "C:\\Users\\Deepak\\anaconda3\\lib\\site-packages\\torch\\distributed\\_sharded_tensor\\__init__.py:8: DeprecationWarning:\n",
      "\n",
      "torch.distributed._sharded_tensor will be deprecated, use torch.distributed._shard.sharded_tensor instead\n",
      "\n",
      "C:\\Users\\Deepak\\anaconda3\\lib\\site-packages\\torch\\distributed\\_sharding_spec\\__init__.py:8: DeprecationWarning:\n",
      "\n",
      "torch.distributed._sharding_spec will be deprecated, use torch.distributed._shard.sharding_spec instead\n",
      "\n",
      "NOTE: Redirects are currently not supported in Windows or MacOs.\n",
      "No CUDA runtime is found, using CUDA_HOME='C:\\Program Files\\NVIDIA GPU Computing Toolkit\\CUDA\\v12.2'\n",
      "C:\\Users\\Deepak\\anaconda3\\lib\\site-packages\\torchvision\\datapoints\\__init__.py:12: UserWarning:\n",
      "\n",
      "The torchvision.datapoints and torchvision.transforms.v2 namespaces are still Beta. While we do not expect major breaking changes, some APIs may still change according to user feedback. Please submit any feedback you may have in this issue: https://github.com/pytorch/vision/issues/6753, and you can also check out https://github.com/pytorch/vision/issues/7319 to learn more about the APIs that we suspect might involve future changes. You can silence this warning by calling torchvision.disable_beta_transforms_warning().\n",
      "\n",
      "C:\\Users\\Deepak\\anaconda3\\lib\\site-packages\\torchvision\\transforms\\v2\\__init__.py:54: UserWarning:\n",
      "\n",
      "The torchvision.datapoints and torchvision.transforms.v2 namespaces are still Beta. While we do not expect major breaking changes, some APIs may still change according to user feedback. Please submit any feedback you may have in this issue: https://github.com/pytorch/vision/issues/6753, and you can also check out https://github.com/pytorch/vision/issues/7319 to learn more about the APIs that we suspect might involve future changes. You can silence this warning by calling torchvision.disable_beta_transforms_warning().\n",
      "\n",
      "C:\\Users\\Deepak\\anaconda3\\lib\\site-packages\\Pythonwin\\pywin\\scintilla\\view.py:814: ResourceWarning:\n",
      "\n",
      "unclosed file <_io.TextIOWrapper name='C:\\\\Users\\\\Deepak\\\\anaconda3\\\\lib\\\\site-packages\\\\Pythonwin\\\\pywin\\\\default.cfg' mode='r' encoding='cp1252'>\n",
      "\n"
     ]
    },
    {
     "name": "stdout",
     "output_type": "stream",
     "text": [
      "IPython             configparser        ml_dtypes           sniffio\n",
      "New_early_stopping  constantly          mlxtend             snowballstemmer\n",
      "OpenSSL             contextlib          mmap                socket\n",
      "PIL                 contextvars         mmapfile            socketserver\n",
      "PyQt5               contourpy           mmsystem            socks\n",
      "SimpleLinearRegression cookiecutter        model_utils         sockshandler\n",
      "TBB                 copy                modulefinder        sortedcontainers\n",
      "__future__          copyreg             more_itertools      soupsieve\n",
      "_abc                cpuinfo             mpmath              spacy\n",
      "_argon2_cffi_bindings crypt               msgpack             spacy_legacy\n",
      "_ast                cryptography        msilib              spacy_loggers\n",
      "_asyncio            cssselect           msvcrt              sphinx\n",
      "_bisect             csv                 multidict           spyder\n",
      "_black_version      ctypes              multipledispatch    spyder_kernels\n",
      "_blake2             curl                multiprocess        sqlalchemy\n",
      "_bootlocale         curses              multiprocessing     sqlite3\n",
      "_bz2                cv2                 munkres             sqlparse\n",
      "_cffi_backend       cwp                 murmurhash          sre_compile\n",
      "_codecs             cycler              mypy_extensions     sre_constants\n",
      "_codecs_cn          cymem               nacl                sre_parse\n",
      "_codecs_hk          cytoolz             navigator_updater   srsly\n",
      "_codecs_iso2022     daal4py             nbclassic           ssl\n",
      "_codecs_jp          dask                nbclient            sspi\n",
      "_codecs_kr          dataclasses         nbconvert           sspicon\n",
      "_codecs_tw          datasets            nbformat            stack_data\n",
      "_collections        datashader          nest_asyncio        stat\n",
      "_collections_abc    datashape           netbios             statistics\n",
      "_compat_pickle      datetime            netrc               statsmodels\n",
      "_compression        dateutil            networkx            string\n",
      "_contextvars        dbi                 nltk                stringprep\n",
      "_csv                dbm                 nntplib             struct\n",
      "_ctypes             dde                 notebook            subprocess\n",
      "_ctypes_test        debugpy             notebook_shim       sunau\n",
      "_datetime           decimal             nt                  symbol\n",
      "_decimal            decorator           ntpath              sympy\n",
      "_distutils_hack     defusedxml          ntsecuritycon       symtable\n",
      "_dlib_pybind11      diff_match_patch    nturl2path          sys\n",
      "_dummy_thread       difflib             numba               sysconfig\n",
      "_elementtree        dill                numbergen           tables\n",
      "_functools          dis                 numbers             tabnanny\n",
      "_hashlib            distributed         numexpr             tabulate\n",
      "_heapq              distutils           numpy               tarfile\n",
      "_imp                django              numpydoc            tbb\n",
      "_io                 dlib                oauthlib            tblib\n",
      "_json               docstring_to_markdown odbc                telnetlib\n",
      "_locale             doctest             onedal              tempfile\n",
      "_lsprof             docutils            opcode              tenacity\n",
      "_lzma               dummy_threading     openpyxl            tensorboard\n",
      "_markupbase         email               operator            tensorboard_data_server\n",
      "_md5                encodings           opt_einsum          tensorflow\n",
      "_msi                ensurepip           optparse            tensorflow_estimator\n",
      "_multibytecodec     entrypoints         os                  tensorflow_io_gcs_filesystem\n",
      "_multiprocess       enum                packaging           termcolor\n",
      "_multiprocessing    erfa                pandas              terminado\n",
      "_nsis               errno               pandocfilters       test\n",
      "_opcode             et_xmlfile          panel               test_pycosat\n",
      "_operator           exceptiongroup      param               text_unidecode\n",
      "_osx_support        executing           paramiko            textdistance\n",
      "_overlapped         face_recognition    parsel              textwrap\n",
      "_pickle             face_recognition_models parser              thinc\n",
      "_plotly_future_     fastai              parso               this\n",
      "_plotly_utils       fastcore            partd               threading\n",
      "_py_abc             fastdownload        past                threadpoolctl\n",
      "_pydecimal          fastjsonschema      pasta               three_merge\n",
      "_pyio               fastprogress        pathlib             tifffile\n",
      "_pyrsistent_version faulthandler        pathspec            time\n",
      "_pytest             filecmp             pathy               timeit\n",
      "_queue              fileinput           patsy               timer\n",
      "_random             filelock            pdb                 tinycss2\n",
      "_ruamel_yaml        flake8              pep8                tkinter\n",
      "_sha1               flask               perfmon             tldextract\n",
      "_sha256             flatbuffers         pexpect             tlz\n",
      "_sha3               fnmatch             pickle              token\n",
      "_sha512             fontTools           pickleshare         tokenize\n",
      "_signal             formatter           pickletools         tokenizers\n",
      "_sitebuiltins       fractions           pip                 toml\n",
      "_socket             frozenlist          pipes               tomli\n",
      "_sqlite3            fsspec              pkg_resources       tomlkit\n",
      "_sre                ftplib              pkginfo             toolz\n",
      "_ssl                functools           pkgutil             torch\n",
      "_stat               functorch           pkgutil_resolve_name torchaudio\n",
      "_statistics         future              platform            torchgen\n",
      "_string             gast                platformdirs        torchvision\n",
      "_strptime           gc                  plistlib            tornado\n",
      "_struct             genericpath         plotly              tqdm\n",
      "_symtable           gensim              pluggy              trace\n",
      "_system_path        getopt              ply                 traceback\n",
      "_testbuffer         getpass             pooch               tracemalloc\n",
      "_testcapi           gettext             poplib              traitlets\n",
      "_testconsole        glob                posixpath           transformers\n",
      "_testimportmultiple glob2               poyo                tty\n",
      "_testinternalcapi   google_auth_oauthlib pprint              turtle\n",
      "_testmultiphase     greenlet            preshed             turtledemo\n",
      "_thread             grpc                prettytable         twisted\n",
      "_threading_local    gzip                profile             typer\n",
      "_tkinter            h5py                prometheus_client   types\n",
      "_tracemalloc        hashlib             prompt_toolkit      typing\n",
      "_warnings           heapdict            protego             typing_extensions\n",
      "_weakref            heapq               pstats              tzdata\n",
      "_weakrefset         hmac                psutil              uc_micro\n",
      "_win32sysloader     holoviews           pty                 ujson\n",
      "_winapi             html                ptyprocess          unicodedata\n",
      "_winxptheme         http                pure_eval           unidecode\n",
      "_xxsubinterpreters  huggingface_hub     pvectorc            unittest\n",
      "_yaml               hvplot              py                  urllib\n",
      "abc                 hyperlink           py_compile          urllib3\n",
      "absl                idlelib             pyarrow             uu\n",
      "adodbapi            idna                pyasn1              uuid\n",
      "afxres              imagecodecs         pyasn1_modules      venv\n",
      "aifc                imageio             pyclbr              w3lib\n",
      "aiobotocore         imagesize           pycodestyle         warnings\n",
      "aiofiles            imaplib             pycosat             wasabi\n",
      "aiohttp             imblearn            pycparser           watchdog\n",
      "aioitertools        imghdr              pyct                wave\n",
      "aiosignal           imp                 pycurl              wcwidth\n",
      "aiosqlite           importlib           pydantic            weakref\n",
      "alabaster           importlib_metadata  pydispatch          webbrowser\n",
      "anaconda_navigator  importlib_resources pydoc               webencodings\n",
      "antigravity         incremental         pydoc_data          websocket\n",
      "anyio               inflection          pydocstyle          werkzeug\n",
      "appdirs             iniconfig           pyexpat             whatthepatch\n",
      "argon2              inspect             pyflakes            wheel\n",
      "argparse            intake              pygments            widgetsnbextension\n",
      "array               intervaltree        pylab               win2kras\n",
      "arrow               io                  pylint              win32api\n",
      "asgiref             ipaddress           pylint_venv         win32clipboard\n",
      "ast                 ipykernel           pyls_spyder         win32com\n",
      "astroid             ipykernel_launcher  pylsp               win32con\n",
      "astropy             ipython_genutils    pylsp_black         win32console\n",
      "asttokens           ipywidgets          pylsp_jsonrpc       win32cred\n",
      "astunparse          isapi               pyodbc              win32crypt\n",
      "async_timeout       isort               pyparsing           win32cryptcon\n",
      "asynchat            isympy              pyrsistent          win32ctypes\n",
      "asyncio             itemadapter         pytest              win32event\n",
      "asyncore            itemloaders         pythoncom           win32evtlog\n",
      "atexit              itertools           pythonjsonlogger    win32evtlogutil\n",
      "atomicwrites        itsdangerous        pytoolconfig        win32file\n",
      "attr                jax                 pytz                win32gui\n",
      "attrs               jedi                pyviz_comms         win32gui_struct\n",
      "audioop             jellyfish           pywin               win32help\n",
      "automat             jinja2              pywin32_bootstrap   win32inet\n",
      "autopep8            jinja2_time         pywin32_testutil    win32inetcon\n",
      "babel               jmespath            pywintypes          win32job\n",
      "backcall            joblib              pywt                win32lz\n",
      "backports           json                qdarkstyle          win32net\n",
      "base64              json5               qstylizer           win32netcon\n",
      "bcrypt              jsonpatch           qtawesome           win32pdh\n",
      "bdb                 jsonpointer         qtconsole           win32pdhquery\n",
      "binaryornot         jsonschema          qtpy                win32pdhutil\n",
      "binascii            jupyter             queue               win32pipe\n",
      "binhex              jupyter_client      queuelib            win32print\n",
      "binstar_client      jupyter_console     quopri              win32process\n",
      "bisect              jupyter_core        random              win32profile\n",
      "black               jupyter_events      rasutil             win32ras\n",
      "blackd              jupyter_server      re                  win32rcparser\n",
      "bleach              jupyter_server_fileid regcheck            win32security\n",
      "blib2to3            jupyter_server_terminals regex               win32service\n",
      "blis                jupyter_server_ydoc regutil             win32serviceutil\n",
      "bokeh               jupyter_ydoc        repo_cli            win32timezone\n",
      "boltons             jupyterlab          reprlib             win32trace\n",
      "botocore            jupyterlab_plotly   requests            win32traceutil\n",
      "bottleneck          jupyterlab_pygments requests_file       win32transaction\n",
      "brotli              jupyterlab_server   requests_oauthlib   win32ts\n",
      "bs4                 jupyterlab_widgets  requests_toolbelt   win32ui\n",
      "builtins            jwt                 responses           win32uiole\n",
      "bz2                 keras               rfc3339_validator   win32verstamp\n",
      "cProfile            keyring             rfc3986_validator   win32wnet\n",
      "cachetools          keyword             rlcompleter         win_inet_pton\n",
      "calendar            kiwisolver          rope                winerror\n",
      "catalogue           langcodes           rsa                 winioctlcon\n",
      "certifi             lazy_object_proxy   rtree               winnt\n",
      "cffi                lib2to3             ruamel_yaml         winperf\n",
      "cgi                 libarchive          runpy               winpty\n",
      "cgitb               libfuturize         s3fs                winreg\n",
      "chardet             libpasteurize       sacremoses          winsound\n",
      "charset_normalizer  lief                sched               winxpgui\n",
      "chunk               linecache           scipy               winxptheme\n",
      "clang               linkify_it          scrapy              wrapt\n",
      "click               llvmlite            seaborn             wsgiref\n",
      "cloudpickle         lmdb                secrets             xarray\n",
      "clyent              locale              select              xdrlib\n",
      "cmath               locket              selectors           xlwings\n",
      "cmd                 logging             send2trash          xml\n",
      "code                lxml                service_identity    xmlrpc\n",
      "codecs              lzma                servicemanager      xxhash\n",
      "codeop              mailbox             setuptools          xxlimited\n",
      "collections         mailcap             shellingham         xxsubtype\n",
      "colorama            markdown            shelve              xyzservices\n",
      "colorcet            markdown_it         shlex               y_py\n",
      "colorsys            markupsafe          shutil              yaml\n",
      "comm                marshal             signal              yapf\n",
      "commctrl            math                sipbuild            yapftests\n",
      "compileall          matplotlib          site                yarl\n",
      "concurrent          matplotlib_inline   six                 ypy_websocket\n",
      "conda               mccabe              skimage             zict\n",
      "conda_build         mdit_py_plugins     sklearn             zipapp\n",
      "conda_content_trust mdurl               sklearnex           zipfile\n",
      "conda_env           menuinst            slugify             zipimport\n",
      "conda_package_handling mimetypes           smart_open          zipp\n",
      "conda_package_streaming mistune             smtpd               zlib\n",
      "conda_token         mkl                 smtplib             zmq\n",
      "conda_verify        mkl_fft             snappy              zope\n",
      "confection          mkl_random          sndhdr              zstandard\n",
      "\n",
      "Enter any module name to get more help.  Or, type \"modules spam\" to search\n",
      "for modules whose name or summary contain the string \"spam\".\n",
      "\n"
     ]
    }
   ],
   "source": [
    "help('modules')"
   ]
  },
  {
   "cell_type": "code",
   "execution_count": 2,
   "id": "4f3ba786",
   "metadata": {},
   "outputs": [],
   "source": [
    "import math"
   ]
  },
  {
   "cell_type": "code",
   "execution_count": 3,
   "id": "34448a31",
   "metadata": {},
   "outputs": [
    {
     "data": {
      "text/plain": [
       "3.141592653589793"
      ]
     },
     "execution_count": 3,
     "metadata": {},
     "output_type": "execute_result"
    }
   ],
   "source": [
    "math.pi"
   ]
  },
  {
   "cell_type": "code",
   "execution_count": 4,
   "id": "22772360",
   "metadata": {},
   "outputs": [
    {
     "data": {
      "text/plain": [
       "2.718281828459045"
      ]
     },
     "execution_count": 4,
     "metadata": {},
     "output_type": "execute_result"
    }
   ],
   "source": [
    "math.e"
   ]
  },
  {
   "cell_type": "code",
   "execution_count": 5,
   "id": "8ca2f613",
   "metadata": {},
   "outputs": [
    {
     "data": {
      "text/plain": [
       "24"
      ]
     },
     "execution_count": 5,
     "metadata": {},
     "output_type": "execute_result"
    }
   ],
   "source": [
    "math.factorial(4)"
   ]
  },
  {
   "cell_type": "code",
   "execution_count": 6,
   "id": "c866ef9d",
   "metadata": {},
   "outputs": [
    {
     "data": {
      "text/plain": [
       "7"
      ]
     },
     "execution_count": 6,
     "metadata": {},
     "output_type": "execute_result"
    }
   ],
   "source": [
    "math.ceil(6.4)"
   ]
  },
  {
   "cell_type": "code",
   "execution_count": 7,
   "id": "7cb02af1",
   "metadata": {},
   "outputs": [
    {
     "data": {
      "text/plain": [
       "5"
      ]
     },
     "execution_count": 7,
     "metadata": {},
     "output_type": "execute_result"
    }
   ],
   "source": [
    "math.floor(5.2)"
   ]
  },
  {
   "cell_type": "code",
   "execution_count": 8,
   "id": "0573aea6",
   "metadata": {},
   "outputs": [
    {
     "data": {
      "text/plain": [
       "-0.4480736161291701"
      ]
     },
     "execution_count": 8,
     "metadata": {},
     "output_type": "execute_result"
    }
   ],
   "source": [
    "math.cos(90)"
   ]
  },
  {
   "cell_type": "code",
   "execution_count": 10,
   "id": "978cebcc",
   "metadata": {},
   "outputs": [],
   "source": [
    "import random"
   ]
  },
  {
   "cell_type": "code",
   "execution_count": 12,
   "id": "2fd9c825",
   "metadata": {},
   "outputs": [
    {
     "data": {
      "text/plain": [
       "10"
      ]
     },
     "execution_count": 12,
     "metadata": {},
     "output_type": "execute_result"
    }
   ],
   "source": [
    "random.randint(1,10)"
   ]
  },
  {
   "cell_type": "code",
   "execution_count": 17,
   "id": "87491dc5",
   "metadata": {},
   "outputs": [
    {
     "data": {
      "text/plain": [
       "[2, 3, 1, 4, 5]"
      ]
     },
     "execution_count": 17,
     "metadata": {},
     "output_type": "execute_result"
    }
   ],
   "source": [
    "a = [1,2,3,4,5]\n",
    "random.shuffle(a)\n",
    "a"
   ]
  },
  {
   "cell_type": "code",
   "execution_count": 18,
   "id": "75b683e9",
   "metadata": {},
   "outputs": [],
   "source": [
    "import time"
   ]
  },
  {
   "cell_type": "code",
   "execution_count": 19,
   "id": "524719d3",
   "metadata": {},
   "outputs": [
    {
     "data": {
      "text/plain": [
       "1695228293.6676908"
      ]
     },
     "execution_count": 19,
     "metadata": {},
     "output_type": "execute_result"
    }
   ],
   "source": [
    "time.time()"
   ]
  },
  {
   "cell_type": "code",
   "execution_count": 20,
   "id": "25d29044",
   "metadata": {},
   "outputs": [
    {
     "data": {
      "text/plain": [
       "'Wed Sep 20 22:15:07 2023'"
      ]
     },
     "execution_count": 20,
     "metadata": {},
     "output_type": "execute_result"
    }
   ],
   "source": [
    "time.ctime()"
   ]
  },
  {
   "cell_type": "code",
   "execution_count": 21,
   "id": "bb1c12d4",
   "metadata": {},
   "outputs": [
    {
     "name": "stdout",
     "output_type": "stream",
     "text": [
      "Hello\n",
      "Delayed Print\n"
     ]
    }
   ],
   "source": [
    "print(\"Hello\")\n",
    "time.sleep(2)\n",
    "print(\"Delayed Print\")"
   ]
  },
  {
   "cell_type": "code",
   "execution_count": 22,
   "id": "17416ceb",
   "metadata": {},
   "outputs": [],
   "source": [
    "import os"
   ]
  },
  {
   "cell_type": "code",
   "execution_count": 23,
   "id": "f64e8739",
   "metadata": {},
   "outputs": [
    {
     "data": {
      "text/plain": [
       "'C:\\\\Users\\\\Deepak'"
      ]
     },
     "execution_count": 23,
     "metadata": {},
     "output_type": "execute_result"
    }
   ],
   "source": [
    "os.getcwd()"
   ]
  },
  {
   "cell_type": "code",
   "execution_count": 24,
   "id": "b8e32234",
   "metadata": {
    "collapsed": true
   },
   "outputs": [
    {
     "data": {
      "text/plain": [
       "['.anaconda',\n",
       " '.android',\n",
       " '.astropy',\n",
       " '.cache',\n",
       " '.conda',\n",
       " '.condarc',\n",
       " '.continuum',\n",
       " '.dotnet',\n",
       " '.emulator_console_auth_token',\n",
       " '.gitconfig',\n",
       " '.gradle',\n",
       " '.ipynb_checkpoints',\n",
       " '.ipython',\n",
       " '.jupyter',\n",
       " '.keras',\n",
       " '.kivy',\n",
       " '.m2',\n",
       " '.matplotlib',\n",
       " '.ms-ad',\n",
       " '.omnisharp',\n",
       " '.openjfx',\n",
       " '.rest-client',\n",
       " '.software',\n",
       " '.spyder-py3',\n",
       " '.thumbnails',\n",
       " '.VirtualBox',\n",
       " '.vscode',\n",
       " '.wdc',\n",
       " '3D Objects',\n",
       " 'anaconda3',\n",
       " 'AND Perceptron.ipynb',\n",
       " 'AndroidStudioProjects',\n",
       " 'ansel',\n",
       " 'AppData',\n",
       " 'Application Data',\n",
       " 'Basics_of_Python.ipynb',\n",
       " 'Contacts',\n",
       " 'Cookies',\n",
       " 'Documents',\n",
       " 'Downloads',\n",
       " 'Dropout Regularization.ipynb',\n",
       " 'Early_Stop.ipynb',\n",
       " 'face_recog_dlib_file',\n",
       " 'Favorites',\n",
       " 'filter-based-feature-selection.ipynb',\n",
       " 'IdeaProjects',\n",
       " 'IntelGraphicsProfiles',\n",
       " 'Jedi',\n",
       " 'Links',\n",
       " 'Local Settings',\n",
       " 'mlxtend_data',\n",
       " 'Music',\n",
       " 'My Documents',\n",
       " 'NetHood',\n",
       " 'New_early_stopping.py',\n",
       " 'NOT Gate Perceptron.ipynb',\n",
       " 'NTUSER.DAT',\n",
       " 'ntuser.dat.LOG1',\n",
       " 'ntuser.dat.LOG2',\n",
       " 'NTUSER.DAT{a2332f18-cdbf-11ec-8680-002248483d79}.TM.blf',\n",
       " 'NTUSER.DAT{a2332f18-cdbf-11ec-8680-002248483d79}.TMContainer00000000000000000001.regtrans-ms',\n",
       " 'NTUSER.DAT{a2332f18-cdbf-11ec-8680-002248483d79}.TMContainer00000000000000000002.regtrans-ms',\n",
       " 'ntuser.ini',\n",
       " 'OneDrive',\n",
       " 'perceptron-trick.ipynb',\n",
       " 'PracticeJava',\n",
       " 'PrintHood',\n",
       " 'PycharmProjects',\n",
       " 'Recent',\n",
       " 'Saved Games',\n",
       " 'Searches',\n",
       " 'SendTo',\n",
       " 'SimpleLinearRegression.ipynb',\n",
       " 'SimpleLinearRegression.py',\n",
       " 'Smart_Attendance.ipynb',\n",
       " 'source',\n",
       " 'Start Menu',\n",
       " 'Templates',\n",
       " 'Untitled.ipynb',\n",
       " 'Videos',\n",
       " 'VirtualBox VMs',\n",
       " 'wc',\n",
       " 'Zotero']"
      ]
     },
     "execution_count": 24,
     "metadata": {},
     "output_type": "execute_result"
    }
   ],
   "source": [
    "os.listdir()"
   ]
  },
  {
   "cell_type": "markdown",
   "id": "647f6ae0",
   "metadata": {},
   "source": [
    "# Strings"
   ]
  },
  {
   "cell_type": "code",
   "execution_count": 26,
   "id": "a8406e78",
   "metadata": {},
   "outputs": [
    {
     "name": "stdout",
     "output_type": "stream",
     "text": [
      "HelloHello's String'This is also string'123\n"
     ]
    }
   ],
   "source": [
    "# Strings: Sequence of Characters, in python string is sequence of Unicode characters\n",
    "# Read more about unicode here --> https://docs.python.org/3.3/howto/unicode.html\n",
    "# Creating String\n",
    "s1 = 'Hello'\n",
    "s2 = \"Hello's String\"\n",
    "s3 = \"'This is also string'\"\n",
    "s4 = str(123) \n",
    "# these are different ways to create string in python\n",
    "print(s1+s2+s3+s4)\n",
    "\n",
    "\n",
    "# print(s1[-7]) --> this will throw error \"out of index\" as string only contains 6 characters indexing -1 to -6\n",
    "\n",
    "\n",
    "\n",
    "# Deleting string\n",
    "\n",
    "\n",
    "# Operations on string\n",
    "\n",
    "\n",
    "# String functions"
   ]
  },
  {
   "cell_type": "code",
   "execution_count": 1,
   "id": "23a8201f",
   "metadata": {
    "collapsed": true
   },
   "outputs": [
    {
     "name": "stdout",
     "output_type": "stream",
     "text": [
      "D\n",
      "e\n",
      "e\n",
      "p\n",
      "a\n",
      "k\n",
      "k\n",
      "a\n",
      "p\n",
      "e\n",
      "e\n",
      "D\n"
     ]
    }
   ],
   "source": [
    "# Accessing String: Concept of Indexing \n",
    "# String characters can be accessed using position index, in Python we have two type of Indexing: \n",
    "  # i) Positive Indexing - Leftmost character(start) at 0 and keep on increasing towards right e.g.\n",
    "s1 = \"Deepak\"\n",
    "print(s1[0])\n",
    "print(s1[1])\n",
    "print(s1[2])\n",
    "print(s1[3])\n",
    "print(s1[4])\n",
    "print(s1[5])\n",
    "# print(s1[6]) --> this will throw error \"out of index\" as string only contains 6 characters indexing 0 to 5\n",
    "\n",
    "# ii) Negative Indexing - Rightmost character(last) at -1 and keep decreaseing towards left e.g.\n",
    "print(s1[-1])\n",
    "print(s1[-2])\n",
    "print(s1[-3])\n",
    "print(s1[-4])\n",
    "print(s1[-5])\n",
    "print(s1[-6])"
   ]
  },
  {
   "cell_type": "code",
   "execution_count": 6,
   "id": "92878953",
   "metadata": {
    "collapsed": true
   },
   "outputs": [
    {
     "name": "stdout",
     "output_type": "stream",
     "text": [
      "Python is fun\n",
      "hon is fun\n",
      "Pyt\n",
      "on \n",
      "Pto sfn\n",
      "\n",
      "\n",
      "nuf si nohtyP\n"
     ]
    }
   ],
   "source": [
    "# Accessing Strings: Concept of Slicing\n",
    "s1 = 'Python is fun'\n",
    "print(s1[:]) # all\n",
    "print(s1[3:]) # from index 3 as a start to end\n",
    "print(s1[:3]) # from start to index 3 as a end ,end is excluded\n",
    "print(s1[4:7])# from index 4 to 7, ,end is excluded\n",
    "\n",
    "# Even you can specify step as a third parameter e.g. \n",
    "\n",
    "print(s1[0:13:2])\n",
    "\n",
    "# Negative step can also be used -\n",
    "\n",
    "print(s1[0:13:-1]) # will print nothing, coz...negative step can only used with negative indexing e.g. \n",
    "\n",
    "print(s1[-5:-2:-1]) # will work\n",
    "\n",
    "# And the most interesting one - to reverse the string\n",
    "\n",
    "print(s1[::-1]) \n"
   ]
  },
  {
   "cell_type": "code",
   "execution_count": 1,
   "id": "c82ec13c",
   "metadata": {
    "collapsed": true
   },
   "outputs": [
    {
     "name": "stdout",
     "output_type": "stream",
     "text": [
      "Cap\n"
     ]
    },
    {
     "ename": "TypeError",
     "evalue": "'str' object does not support item assignment",
     "output_type": "error",
     "traceback": [
      "\u001b[1;31m---------------------------------------------------------------------------\u001b[0m",
      "\u001b[1;31mTypeError\u001b[0m                                 Traceback (most recent call last)",
      "Cell \u001b[1;32mIn[1], line 4\u001b[0m\n\u001b[0;32m      2\u001b[0m s \u001b[38;5;241m=\u001b[39m \u001b[38;5;124m\"\u001b[39m\u001b[38;5;124mCap\u001b[39m\u001b[38;5;124m\"\u001b[39m\n\u001b[0;32m      3\u001b[0m \u001b[38;5;28mprint\u001b[39m(s)\n\u001b[1;32m----> 4\u001b[0m s[\u001b[38;5;241m0\u001b[39m] \u001b[38;5;241m=\u001b[39m \u001b[38;5;124m'\u001b[39m\u001b[38;5;124mT\u001b[39m\u001b[38;5;124m'\u001b[39m \u001b[38;5;66;03m# will throw error\u001b[39;00m\n\u001b[0;32m      5\u001b[0m \u001b[38;5;28mprint\u001b[39m(s)\n",
      "\u001b[1;31mTypeError\u001b[0m: 'str' object does not support item assignment"
     ]
    }
   ],
   "source": [
    "# Editing string: Python does not allow editing string, strings are immutables in python \n",
    "s = \"Cap\"\n",
    "print(s)\n",
    "s[0] = 'T' # will throw error\n",
    "print(s)\n"
   ]
  },
  {
   "cell_type": "code",
   "execution_count": 3,
   "id": "433fa30e",
   "metadata": {
    "collapsed": true
   },
   "outputs": [
    {
     "name": "stdout",
     "output_type": "stream",
     "text": [
      "Cap\n"
     ]
    },
    {
     "ename": "TypeError",
     "evalue": "'str' object does not support item assignment",
     "output_type": "error",
     "traceback": [
      "\u001b[1;31m---------------------------------------------------------------------------\u001b[0m",
      "\u001b[1;31mTypeError\u001b[0m                                 Traceback (most recent call last)",
      "Cell \u001b[1;32mIn[3], line 3\u001b[0m\n\u001b[0;32m      1\u001b[0m \u001b[38;5;66;03m# Even we can not add anything to string\u001b[39;00m\n\u001b[0;32m      2\u001b[0m \u001b[38;5;28mprint\u001b[39m(s)\n\u001b[1;32m----> 3\u001b[0m s[\u001b[38;5;241m3\u001b[39m] \u001b[38;5;241m=\u001b[39m \u001b[38;5;124m'\u001b[39m\u001b[38;5;124mx\u001b[39m\u001b[38;5;124m'\u001b[39m\n",
      "\u001b[1;31mTypeError\u001b[0m: 'str' object does not support item assignment"
     ]
    }
   ],
   "source": [
    "# Even we can not add anything to string\n",
    "print(s)\n",
    "s[3] = 'x' # will throw error"
   ]
  },
  {
   "cell_type": "code",
   "execution_count": 5,
   "id": "2a5ccf13",
   "metadata": {
    "collapsed": true
   },
   "outputs": [
    {
     "name": "stdout",
     "output_type": "stream",
     "text": [
      "dell\n"
     ]
    },
    {
     "ename": "NameError",
     "evalue": "name 'd' is not defined",
     "output_type": "error",
     "traceback": [
      "\u001b[1;31m---------------------------------------------------------------------------\u001b[0m",
      "\u001b[1;31mNameError\u001b[0m                                 Traceback (most recent call last)",
      "Cell \u001b[1;32mIn[5], line 5\u001b[0m\n\u001b[0;32m      3\u001b[0m \u001b[38;5;28mprint\u001b[39m(d)\n\u001b[0;32m      4\u001b[0m \u001b[38;5;28;01mdel\u001b[39;00m d\n\u001b[1;32m----> 5\u001b[0m \u001b[38;5;28mprint\u001b[39m(\u001b[43md\u001b[49m)\n",
      "\u001b[1;31mNameError\u001b[0m: name 'd' is not defined"
     ]
    }
   ],
   "source": [
    "# Deletion of String: Deleting entire string is allowed but not part of it\n",
    "d = 'dell'\n",
    "print(d)\n",
    "del d   # This will delete string d\n",
    "print(d) # so, d is no more available, causes error"
   ]
  },
  {
   "cell_type": "code",
   "execution_count": 11,
   "id": "e465300c",
   "metadata": {
    "collapsed": true
   },
   "outputs": [
    {
     "name": "stdout",
     "output_type": "stream",
     "text": [
      "Codinglogic\n",
      "xxxxxxxxxxxxxxxxxxxxxxxxx\n"
     ]
    }
   ],
   "source": [
    "# String Operations\n",
    "\n",
    "# Arithmetic Operations on Strings\n",
    "\n",
    "s1 = 'Coding'\n",
    "s2 = 'logic'\n",
    "s3 = s1 + s2 # String Concatenation\n",
    "print(s3)\n",
    "\n",
    "print(\"x\"*25)"
   ]
  },
  {
   "cell_type": "code",
   "execution_count": 17,
   "id": "5b035e1a",
   "metadata": {
    "collapsed": true
   },
   "outputs": [
    {
     "name": "stdout",
     "output_type": "stream",
     "text": [
      "False\n",
      "True\n",
      "False\n",
      "True\n"
     ]
    }
   ],
   "source": [
    "# String Operations\n",
    "\n",
    "# Relational Operations on Strings\n",
    "\n",
    "s1 = 'Coding'\n",
    "s2 = 'logic'\n",
    "\n",
    "print(s1 == s2) # String are equal ? \n",
    "\n",
    "print(s1 != s2) # String are NOT equal ?\n",
    "\n",
    "print(\"Abc\" > \"Xyz\") # lexiographically\n",
    "\n",
    "print(\"Goa\" < \"Pune\") # lexiographically"
   ]
  },
  {
   "cell_type": "code",
   "execution_count": 1,
   "id": "26d23f7a",
   "metadata": {
    "collapsed": true
   },
   "outputs": [
    {
     "name": "stdout",
     "output_type": "stream",
     "text": [
      "\n",
      "\n",
      "\n",
      "Bye\n",
      "\n",
      "Bye\n",
      "Hi\n",
      "Hi\n",
      "False\n",
      "True\n"
     ]
    }
   ],
   "source": [
    "# Logical Operations on Strings\n",
    "\n",
    "# In Python, \"\" --> False , empty string is treated as False\n",
    "#            \"*\"--> True , non-empty string is treated as True\n",
    "\n",
    "# logical and operation on string\n",
    "print(\"\" and \"\")\n",
    "print(\"\" and \"Bye\")\n",
    "print(\"Hi\" and \"\")\n",
    "print(\"Hi\" and \"Bye\")\n",
    "\n",
    "# logical or operation on string\n",
    "print(\"\" or \"\")\n",
    "print(\"\" or \"Bye\")\n",
    "print(\"Hi\" or \"\")\n",
    "print(\"Hi\" or \"Bye\")\n",
    "\n",
    "# Logical not operation on string\n",
    "print(not \"abc\")\n",
    "print(not \"\")\n"
   ]
  },
  {
   "cell_type": "code",
   "execution_count": 5,
   "id": "d3ba2d93",
   "metadata": {
    "collapsed": true
   },
   "outputs": [
    {
     "name": "stdout",
     "output_type": "stream",
     "text": [
      "I\n",
      "n\n",
      "d\n",
      "i\n",
      "a\n",
      "\n",
      "A\n",
      "m\n",
      "e\n",
      "\n",
      "C\n",
      "i\n",
      "a\n",
      "\n"
     ]
    }
   ],
   "source": [
    "# Loop operation on string\n",
    "s_loop = \"India\"\n",
    "for i in s_loop:\n",
    "    print(i)\n",
    "print(\"\")\n",
    "    \n",
    "s_sub = \"America\"\n",
    "for j in s_sub[0:3]:\n",
    "    print(j)\n",
    "print(\"\")    \n",
    "s_sub = \"China\"\n",
    "for k in s_sub[0:5:2]:\n",
    "    print(k)\n",
    "print(\"\")"
   ]
  },
  {
   "cell_type": "code",
   "execution_count": 8,
   "id": "dc001593",
   "metadata": {
    "collapsed": true
   },
   "outputs": [
    {
     "data": {
      "text/plain": [
       "True"
      ]
     },
     "execution_count": 8,
     "metadata": {},
     "output_type": "execute_result"
    }
   ],
   "source": [
    "# Membership operation on string\n",
    "\n",
    "m = \"Micro-processor\"\n",
    "'r' in m   # will return True\n",
    "'x' in m   # will return False\n",
    "'pro' in m # will return True"
   ]
  },
  {
   "cell_type": "markdown",
   "id": "04140755",
   "metadata": {},
   "source": [
    "# String Functions"
   ]
  },
  {
   "cell_type": "code",
   "execution_count": 17,
   "id": "4e7eefd3",
   "metadata": {
    "collapsed": true
   },
   "outputs": [
    {
     "name": "stdout",
     "output_type": "stream",
     "text": [
      "6\n",
      "p\n",
      "D\n",
      "['D', 'a', 'e', 'e', 'k', 'p']\n",
      "['p', 'k', 'e', 'e', 'a', 'D']\n",
      "7\n",
      "32\n",
      "2\n",
      "[2, 3, 4, 6, 8, 9, 32]\n",
      "[32, 9, 8, 6, 4, 3, 2]\n"
     ]
    }
   ],
   "source": [
    "# Common String Functions, can be applied on other data types as well\n",
    "\n",
    "# len: returns lenght of passed string e.g\n",
    "sl = 'Deepak'\n",
    "print(len(sl))\n",
    "\n",
    "# max: returns max (according to ASCII value)\n",
    "print(max(sl))\n",
    "\n",
    "# min: returns min (according to ASCII value)\n",
    "print(min(sl)) # will print 'D' not 'a' as capital letters comes before small letters\n",
    "\n",
    "# sorted:\n",
    "print(sorted(sl)) # in ascending order \n",
    "\n",
    "print(sorted(sl, reverse=True)) # in descending order\n",
    "\n",
    "# on other data types e.g. list\n",
    "l = [4,6,2,9,32,3,8]\n",
    "print(len(l))\n",
    "print(max(l))\n",
    "print(min(l))\n",
    "print(sorted(l))\n",
    "print(sorted(l, reverse=True))\n",
    "\n",
    "# we can apply it on tuple,set and dictionary as well"
   ]
  },
  {
   "cell_type": "code",
   "execution_count": 24,
   "id": "daa76221",
   "metadata": {
    "collapsed": true
   },
   "outputs": [
    {
     "name": "stdout",
     "output_type": "stream",
     "text": [
      "Python is easy programming language\n",
      "HAPPY\n",
      "how are you ?\n",
      "i lOVE cODING\n"
     ]
    }
   ],
   "source": [
    "# Functions only applicable on Strings\n",
    "\n",
    "# 1. Capitalize, Upper, Lower, Swapcase\n",
    "sc = \"python is easy programming language\"\n",
    "sc1 = sc.capitalize()\n",
    "print(sc1)\n",
    "\n",
    "su = 'happy'\n",
    "su1 = su.upper()\n",
    "print(su1)\n",
    "\n",
    "sl = '''HOW ARE YOU ?'''\n",
    "sl1 = sl.lower()\n",
    "print(sl1)\n",
    "\n",
    "sm = 'I Love Coding'\n",
    "sm1 = sm.swapcase()\n",
    "print(sm1)"
   ]
  },
  {
   "cell_type": "code",
   "execution_count": 25,
   "id": "af474ad2",
   "metadata": {
    "collapsed": true
   },
   "outputs": [
    {
     "data": {
      "text/plain": [
       "14"
      ]
     },
     "execution_count": 25,
     "metadata": {},
     "output_type": "execute_result"
    }
   ],
   "source": [
    "# Functions only applicable on Strings\n",
    "# 2. count: counts appearance of perticular character/substring in string e.g.\n",
    "\n",
    "q = \"chanduki chachine chanduke chachako chandaniraatme chandani choukme chandike chamchese chatani chatai \"\n",
    "q.count(\"ch\")\n"
   ]
  },
  {
   "cell_type": "code",
   "execution_count": 31,
   "id": "69fd1d63",
   "metadata": {
    "collapsed": true
   },
   "outputs": [
    {
     "name": "stdout",
     "output_type": "stream",
     "text": [
      "2\n",
      "-1\n",
      "8\n"
     ]
    },
    {
     "ename": "ValueError",
     "evalue": "substring not found",
     "output_type": "error",
     "traceback": [
      "\u001b[1;31m---------------------------------------------------------------------------\u001b[0m",
      "\u001b[1;31mValueError\u001b[0m                                Traceback (most recent call last)",
      "Cell \u001b[1;32mIn[31], line 9\u001b[0m\n\u001b[0;32m      7\u001b[0m \u001b[38;5;66;03m# 4. Index: returns index position of characher/ substring in string, if not found returns error\u001b[39;00m\n\u001b[0;32m      8\u001b[0m \u001b[38;5;28mprint\u001b[39m(x\u001b[38;5;241m.\u001b[39mindex(\u001b[38;5;124m'\u001b[39m\u001b[38;5;124mf\u001b[39m\u001b[38;5;124m'\u001b[39m))\n\u001b[1;32m----> 9\u001b[0m \u001b[38;5;28mprint\u001b[39m(\u001b[43mx\u001b[49m\u001b[38;5;241;43m.\u001b[39;49m\u001b[43mindex\u001b[49m\u001b[43m(\u001b[49m\u001b[38;5;124;43m'\u001b[39;49m\u001b[38;5;124;43md\u001b[39;49m\u001b[38;5;124;43m'\u001b[39;49m\u001b[43m)\u001b[49m)\n",
      "\u001b[1;31mValueError\u001b[0m: substring not found"
     ]
    }
   ],
   "source": [
    "# Functions only applicable on Strings\n",
    "# 3a. Find: returns index position of characher/ substring in string, if not found returns -1\n",
    "x = 'Enjoy life'\n",
    "print(x.find('j'))\n",
    "print(x.find('p')) # will return -1\n",
    "\n",
    "# 3b. Index: returns index position of characher/ substring in string, if not found returns error\n",
    "print(x.index('f'))\n",
    "# print(x.index('d')) # will return error\n",
    "# so preffer 'find' to avoid error"
   ]
  },
  {
   "cell_type": "code",
   "execution_count": 33,
   "id": "660c9e4c",
   "metadata": {
    "collapsed": true
   },
   "outputs": [
    {
     "name": "stdout",
     "output_type": "stream",
     "text": [
      "True\n",
      "False\n",
      "True\n",
      "False\n"
     ]
    }
   ],
   "source": [
    "# Functions only applicable on Strings\n",
    "# 4. startswith / endswith\n",
    "stmt = \"This is interesting\"\n",
    "print(stmt.startswith(\"This\"))\n",
    "print(stmt.startswith(\"It\"))\n",
    "\n",
    "print(stmt.endswith(\"ing\"))\n",
    "print(stmt.endswith(\"inter\"))"
   ]
  },
  {
   "cell_type": "markdown",
   "id": "5a2a40e8",
   "metadata": {},
   "source": [
    "# Format\n",
    "If we don't know what values to pass initially, we can use format function and pass the values"
   ]
  },
  {
   "cell_type": "code",
   "execution_count": 4,
   "id": "28bce540",
   "metadata": {},
   "outputs": [
    {
     "data": {
      "text/plain": [
       "'My name is 38 and my age is Deepak '"
      ]
     },
     "execution_count": 4,
     "metadata": {},
     "output_type": "execute_result"
    }
   ],
   "source": [
    "\"My name is {} and my age is {} \".format(\"Deepak\", \"38\")\n",
    "# what will happen if...\n",
    "\"My name is {} and my age is {} \".format(\"38\", \"Deepak\")"
   ]
  },
  {
   "cell_type": "code",
   "execution_count": null,
   "id": "d5a6da19",
   "metadata": {},
   "outputs": [],
   "source": [
    "\"My name is {1} and my age is {0} \".format(\"Deepak\", \"38\")\n",
    "# 0th position parameter(Deepak) sent @ ...age is{0} and 1st position parameter(38) sent @ ...name is{1}\n",
    "# so sequence is important here, better approach...?"
   ]
  },
  {
   "cell_type": "code",
   "execution_count": 2,
   "id": "43f323aa",
   "metadata": {},
   "outputs": [
    {
     "data": {
      "text/plain": [
       "'My name is Deepak and my age is 38 '"
      ]
     },
     "execution_count": 2,
     "metadata": {},
     "output_type": "execute_result"
    }
   ],
   "source": [
    "# Now position does not matter\n",
    "\"My name is {name} and my age is {age} \".format(name = \"Deepak\", age = \"38\")"
   ]
  },
  {
   "cell_type": "code",
   "execution_count": 3,
   "id": "af33f77a",
   "metadata": {},
   "outputs": [
    {
     "data": {
      "text/plain": [
       "'My name is Deepak and my age is 38 '"
      ]
     },
     "execution_count": 3,
     "metadata": {},
     "output_type": "execute_result"
    }
   ],
   "source": [
    "\"My name is {name} and my age is {age} \".format(age = \"38\", name = \"Deepak\" )"
   ]
  },
  {
   "cell_type": "markdown",
   "id": "f4494bf2",
   "metadata": {},
   "source": [
    "# Checking "
   ]
  },
  {
   "cell_type": "code",
   "execution_count": 10,
   "id": "4715f578",
   "metadata": {},
   "outputs": [
    {
     "data": {
      "text/plain": [
       "False"
      ]
     },
     "execution_count": 10,
     "metadata": {},
     "output_type": "execute_result"
    }
   ],
   "source": [
    "# Isalanum:\n",
    "'Deep70'.isalnum() # True\n",
    "\"Deep_\".isalnum()  # False"
   ]
  },
  {
   "cell_type": "code",
   "execution_count": null,
   "id": "e26e831d",
   "metadata": {},
   "outputs": [],
   "source": [
    "# Isalpha"
   ]
  },
  {
   "cell_type": "code",
   "execution_count": 12,
   "id": "bc398171",
   "metadata": {},
   "outputs": [
    {
     "data": {
      "text/plain": [
       "True"
      ]
     },
     "execution_count": 12,
     "metadata": {},
     "output_type": "execute_result"
    }
   ],
   "source": [
    "'Deep70'.isalpha() # False\n",
    "'Deep'.isalpha() # True"
   ]
  },
  {
   "cell_type": "code",
   "execution_count": 16,
   "id": "6e75c7ea",
   "metadata": {},
   "outputs": [
    {
     "data": {
      "text/plain": [
       "False"
      ]
     },
     "execution_count": 16,
     "metadata": {},
     "output_type": "execute_result"
    }
   ],
   "source": [
    "# Isdecimal\n",
    "\"0123456789\".isdecimal() # True\n",
    "\"123.45\".isdecimal() # False\n",
    "\"abc\".isdecimal() # False"
   ]
  },
  {
   "cell_type": "code",
   "execution_count": 22,
   "id": "5cac098e",
   "metadata": {},
   "outputs": [
    {
     "data": {
      "text/plain": [
       "False"
      ]
     },
     "execution_count": 22,
     "metadata": {},
     "output_type": "execute_result"
    }
   ],
   "source": [
    "# Isidentifier\n",
    "\"_123\".isidentifier() # True\n",
    "\"a b\".isidentifier() # False"
   ]
  },
  {
   "cell_type": "markdown",
   "id": "ef313898",
   "metadata": {},
   "source": [
    "# Split\n",
    "Will split the string as a list of seperate list"
   ]
  },
  {
   "cell_type": "code",
   "execution_count": 23,
   "id": "1d02579c",
   "metadata": {},
   "outputs": [
    {
     "data": {
      "text/plain": [
       "['I', 'am', 'singer', 'dancer', 'actor']"
      ]
     },
     "execution_count": 23,
     "metadata": {},
     "output_type": "execute_result"
    }
   ],
   "source": [
    "\"I am singer dancer actor\".split() # default split over space"
   ]
  },
  {
   "cell_type": "code",
   "execution_count": 24,
   "id": "c7b70f0a",
   "metadata": {},
   "outputs": [
    {
     "data": {
      "text/plain": [
       "['I ', 'm singer d', 'ncer ', 'ctor']"
      ]
     },
     "execution_count": 24,
     "metadata": {},
     "output_type": "execute_result"
    }
   ],
   "source": [
    "\"I am singer dancer actor\".split(\"a\") # we can split over any substring e.g. a"
   ]
  },
  {
   "cell_type": "markdown",
   "id": "88cabd51",
   "metadata": {},
   "source": [
    "# Join\n",
    "will join the list as a single string"
   ]
  },
  {
   "cell_type": "code",
   "execution_count": 25,
   "id": "823a75f2",
   "metadata": {},
   "outputs": [
    {
     "data": {
      "text/plain": [
       "'I am singer dancer actor'"
      ]
     },
     "execution_count": 25,
     "metadata": {},
     "output_type": "execute_result"
    }
   ],
   "source": [
    "\" \".join(['I', 'am', 'singer', 'dancer', 'actor']) # join with space"
   ]
  },
  {
   "cell_type": "code",
   "execution_count": 26,
   "id": "cd55cc65",
   "metadata": {},
   "outputs": [
    {
     "data": {
      "text/plain": [
       "'I_am_singer_dancer_actor'"
      ]
     },
     "execution_count": 26,
     "metadata": {},
     "output_type": "execute_result"
    }
   ],
   "source": [
    "\"_\".join(['I', 'am', 'singer', 'dancer', 'actor']) # join with _"
   ]
  },
  {
   "cell_type": "markdown",
   "id": "0067a432",
   "metadata": {},
   "source": [
    "# Replace"
   ]
  },
  {
   "cell_type": "code",
   "execution_count": 27,
   "id": "540c10de",
   "metadata": {},
   "outputs": [
    {
     "data": {
      "text/plain": [
       "'I am in Spain'"
      ]
     },
     "execution_count": 27,
     "metadata": {},
     "output_type": "execute_result"
    }
   ],
   "source": [
    "\"I am in India\".replace(\"India\", \"Spain\")"
   ]
  },
  {
   "cell_type": "markdown",
   "id": "0820b20a",
   "metadata": {},
   "source": [
    "# Strip\n",
    "Removes leading and trailing spaces"
   ]
  },
  {
   "cell_type": "code",
   "execution_count": 29,
   "id": "b6e40233",
   "metadata": {},
   "outputs": [
    {
     "name": "stdout",
     "output_type": "stream",
     "text": [
      "                          Deep                \n",
      "Deep\n"
     ]
    }
   ],
   "source": [
    "name =\"                          Deep                \"\n",
    "print(name)\n",
    "name = name.strip()\n",
    "print(name)"
   ]
  },
  {
   "cell_type": "code",
   "execution_count": null,
   "id": "06989036",
   "metadata": {},
   "outputs": [],
   "source": []
  }
 ],
 "metadata": {
  "kernelspec": {
   "display_name": "Python 3 (ipykernel)",
   "language": "python",
   "name": "python3"
  },
  "language_info": {
   "codemirror_mode": {
    "name": "ipython",
    "version": 3
   },
   "file_extension": ".py",
   "mimetype": "text/x-python",
   "name": "python",
   "nbconvert_exporter": "python",
   "pygments_lexer": "ipython3",
   "version": "3.8.16"
  }
 },
 "nbformat": 4,
 "nbformat_minor": 5
}
