{
 "cells": [
  {
   "cell_type": "markdown",
   "id": "faa44051",
   "metadata": {},
   "source": [
    "# Tuples\n",
    "\n",
    "1. What is Tuple ?\n",
    "   Collection of elements, like list\n",
    "   \n",
    "2. How it is differ from List ?\n",
    "   List => Mutable (can change ), Read-Write Datatype, [] are used,\n",
    "   Tuple => Immutable (can't change), Read Only Datatype, () are used, preffered over list when data integrety is important\n",
    "   \n",
    "3. Creating Tuples\n",
    "4. Access Tuple Element\n",
    "5. Edit Tuple\n",
    "6. Add Element in Tuple\n",
    "7. Delete Element from Tuple\n",
    "8. Operations on Tuple\n",
    "9. Tuple related Functions"
   ]
  },
  {
   "cell_type": "code",
   "execution_count": 1,
   "id": "b0fe4860",
   "metadata": {
    "collapsed": true
   },
   "outputs": [
    {
     "name": "stdout",
     "output_type": "stream",
     "text": [
      "()\n",
      "<class 'int'>\n",
      "<class 'tuple'>\n",
      "(1, 2, 3)\n",
      "('F', 'r', 'i', 'd', 'a', 'y')\n"
     ]
    }
   ],
   "source": [
    "# 3. Creating Tuples\n",
    "\n",
    "t1 = () # empty tuple\n",
    "\n",
    "print(t1)\n",
    "\n",
    "t22= (1)\n",
    "print(type(t22))\n",
    "\n",
    "t2 = (1,) # tuple with single element - giving \" , \" after item is must otherwise will not be treated as a tuple\n",
    "print(type(t2))\n",
    "\n",
    "t3 = (1,2,3) # tuple with more than one item\n",
    "print(t3)\n",
    "\n",
    "t4 = tuple(\"Friday\") # using tuple() function\n",
    "print(t4)"
   ]
  },
  {
   "cell_type": "code",
   "execution_count": 2,
   "id": "9cb52102",
   "metadata": {},
   "outputs": [
    {
     "name": "stdout",
     "output_type": "stream",
     "text": [
      "9\n",
      "(6, 5)\n",
      "4\n"
     ]
    }
   ],
   "source": [
    "# 4. Access Tuple Element\n",
    "\n",
    "t5 = (9,7,6,5,4)\n",
    "\n",
    "print(t5[0])  # access item at index 0\n",
    "\n",
    "print(t5[2:4]) # access items with index 2 to 4\n",
    "\n",
    "print(t5[-1]) # access last item"
   ]
  },
  {
   "cell_type": "code",
   "execution_count": 3,
   "id": "6d7c87f4",
   "metadata": {
    "collapsed": true
   },
   "outputs": [
    {
     "ename": "NameError",
     "evalue": "name 'td' is not defined",
     "output_type": "error",
     "traceback": [
      "\u001b[1;31m---------------------------------------------------------------------------\u001b[0m",
      "\u001b[1;31mNameError\u001b[0m                                 Traceback (most recent call last)",
      "Cell \u001b[1;32mIn[3], line 9\u001b[0m\n\u001b[0;32m      7\u001b[0m td \u001b[38;5;241m=\u001b[39m (\u001b[38;5;241m1\u001b[39m,\u001b[38;5;241m2\u001b[39m,\u001b[38;5;241m3\u001b[39m)\n\u001b[0;32m      8\u001b[0m \u001b[38;5;28;01mdel\u001b[39;00m td\n\u001b[1;32m----> 9\u001b[0m \u001b[43mtd\u001b[49m\n",
      "\u001b[1;31mNameError\u001b[0m: name 'td' is not defined"
     ]
    }
   ],
   "source": [
    "# 5. Edit Tuple\n",
    "# 6. Add Element in Tuple\n",
    "# BOTH NOT POSSIBLE AS TUPLES ARE IMMUTABLE\n",
    "# 7. Delete Element from Tuple , NOT POSSIBLE FOR THE SAME REASON\n",
    "# BUT YOU CAN DELETE ENTIRE TUPLE USING del e.g.\n",
    "\n",
    "t6 = (1,2,3)\n",
    "del t6"
   ]
  },
  {
   "cell_type": "code",
   "execution_count": 8,
   "id": "c1e098b7",
   "metadata": {},
   "outputs": [
    {
     "name": "stdout",
     "output_type": "stream",
     "text": [
      "(1, 2, 3, 4, 5)\n",
      "(4, 5, 4, 5, 4, 5)\n",
      "1\n",
      "2\n",
      "3\n",
      "True\n"
     ]
    }
   ],
   "source": [
    "# 8. Operations on Tuple\n",
    "t7 = (1,2,3)\n",
    "t8 = (4,5)\n",
    "\n",
    "print(t7 + t8) # concatenation\n",
    "\n",
    "print(t8*3) # multiplication\n",
    "\n",
    "for i in t7: # for over tuple\n",
    "    print(i)\n",
    "\n",
    "print(4 in t8) # membership "
   ]
  },
  {
   "cell_type": "code",
   "execution_count": 11,
   "id": "a72ff7d6",
   "metadata": {},
   "outputs": [
    {
     "name": "stdout",
     "output_type": "stream",
     "text": [
      "5\n",
      "11\n",
      "84\n",
      "165\n",
      "[11, 13, 15, 42, 84]\n"
     ]
    }
   ],
   "source": [
    "# 9. Functions for Tuple\n",
    "t9 = (11, 42, 13, 84, 15)\n",
    "\n",
    "print(len(t9))\n",
    "\n",
    "print(min(t9))\n",
    "\n",
    "print(max(t9))\n",
    "\n",
    "print(sum(t9))\n",
    "\n",
    "print(sorted(t9))"
   ]
  },
  {
   "cell_type": "code",
   "execution_count": null,
   "id": "35954f1c",
   "metadata": {},
   "outputs": [],
   "source": []
  }
 ],
 "metadata": {
  "kernelspec": {
   "display_name": "Python 3 (ipykernel)",
   "language": "python",
   "name": "python3"
  },
  "language_info": {
   "codemirror_mode": {
    "name": "ipython",
    "version": 3
   },
   "file_extension": ".py",
   "mimetype": "text/x-python",
   "name": "python",
   "nbconvert_exporter": "python",
   "pygments_lexer": "ipython3",
   "version": "3.8.16"
  }
 },
 "nbformat": 4,
 "nbformat_minor": 5
}
