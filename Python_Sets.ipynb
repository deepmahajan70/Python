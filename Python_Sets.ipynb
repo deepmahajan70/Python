{
 "cells": [
  {
   "cell_type": "markdown",
   "id": "7b6aa910",
   "metadata": {},
   "source": [
    "# Sets\n",
    "\n",
    "Rules:\n",
    "     1. Sets do not allow duplicates\n",
    "     2. Sets have no indexing, it uses Hashing to decide item position\n",
    "     3. Sets do not allow mutable data-type\n",
    "     4. Set itself is mutable data-type"
   ]
  },
  {
   "cell_type": "code",
   "execution_count": 11,
   "id": "1672b9e5",
   "metadata": {
    "collapsed": true
   },
   "outputs": [
    {
     "name": "stdout",
     "output_type": "stream",
     "text": [
      "<class 'dict'>\n",
      "<class 'set'>\n",
      "{1, 2, 3, 4}\n",
      "{1, 2.3, 'hi', (3+4j)}\n",
      "{1, 2, 3, 'hi'}\n",
      "{1, (1, 2, 3)}\n"
     ]
    }
   ],
   "source": [
    "# 1. Creating set\n",
    "\n",
    "s1 = {} # To create empty set, this will not work, this will create dictionary\n",
    "print(type(s1))\n",
    "\n",
    "# To create empty set we have to use set() function e.g.\n",
    "s2 = set()\n",
    "print(type(s2))\n",
    "\n",
    "s3 = {1,2,3,4} # Homogeneous set\n",
    "print(s3)\n",
    "\n",
    "s4 = {1, 2.3, 3+4j, \"hi\", True} # Heterogeneous set\n",
    "print(s4)\n",
    "\n",
    "s5 = {1,1,2,2,3,3,\"hi\",'hi'}\n",
    "print(s5) # Duplicates not allowed in set, so removes duplicate items implisitly\n",
    "\n",
    "# s6 = {{1,2,3},\"hello\"} # NOT allowed, as set is mutable and not hashable\n",
    "# and for the same reason 2D/3D sets are not possible\n",
    "\n",
    "s7 = {(1,2,3),1} # this will work as tuple is immutable\n",
    "print(s7) # order may change due to hashing"
   ]
  },
  {
   "cell_type": "code",
   "execution_count": 18,
   "id": "8c618262",
   "metadata": {
    "collapsed": true
   },
   "outputs": [
    {
     "name": "stdout",
     "output_type": "stream",
     "text": [
      "{2, 4, 70, 7}\n",
      "2\n",
      "4\n",
      "70\n",
      "7\n"
     ]
    }
   ],
   "source": [
    "# 2. Accessing set elements\n",
    "s8 = {4,7,2,70}\n",
    "\n",
    "# s8[0] / s8[-1] / s8[0:3] will not work as set does not support indexing\n",
    "\n",
    "# print(s8[2]) # will give error"
   ]
  },
  {
   "cell_type": "code",
   "execution_count": 19,
   "id": "2276186e",
   "metadata": {
    "collapsed": true
   },
   "outputs": [
    {
     "name": "stdout",
     "output_type": "stream",
     "text": [
      "{8, 32, 4, 5}\n"
     ]
    }
   ],
   "source": [
    "# 3. Editing set : NOT allowed"
   ]
  },
  {
   "cell_type": "code",
   "execution_count": null,
   "id": "53d4fd19",
   "metadata": {},
   "outputs": [],
   "source": [
    "# 4. Add Element can be done as followa\n",
    "s9 = {5,4,8}\n",
    "s9.add(32)\n",
    "print(s9)"
   ]
  },
  {
   "cell_type": "code",
   "execution_count": 23,
   "id": "1c3b6cca",
   "metadata": {},
   "outputs": [
    {
     "name": "stdout",
     "output_type": "stream",
     "text": [
      "{'a', 'b', 'c'}\n",
      "{'a', 'c'}\n",
      "{'c'}\n",
      "None\n"
     ]
    }
   ],
   "source": [
    "# 5. Delete Set / Set item\n",
    "s10 = {'a','b','c'}\n",
    "print(s10)\n",
    "# 5.1 Using del entire set can be deleted\n",
    "# del s10\n",
    "\n",
    "# 5.2 Using Remove specific item can be deleted\n",
    "s10.remove('b')\n",
    "print(s10)\n",
    "\n",
    "# 5.3 Using pop last item can be deleted\n",
    "s10.pop()\n",
    "print(s10)\n",
    "\n",
    "# 5.4 Using clear, empty the set\n",
    "print(s10.clear())"
   ]
  },
  {
   "cell_type": "code",
   "execution_count": 5,
   "id": "27ae37db",
   "metadata": {
    "collapsed": true
   },
   "outputs": [
    {
     "name": "stdout",
     "output_type": "stream",
     "text": [
      "66\n",
      "76\n",
      "55\n",
      "23\n",
      "90\n",
      "True\n"
     ]
    }
   ],
   "source": [
    "# 6. Set Operations\n",
    "\n",
    "# Concatenation + , multiplication * operations not supported in sets\n",
    "\n",
    "# but we can apply for loop\n",
    "s101 = {90,76,55,23,66}\n",
    "for i in s101:\n",
    "    print(i)\n",
    "    \n",
    "# membership can be used\n",
    "print(55 in s101)"
   ]
  },
  {
   "cell_type": "code",
   "execution_count": 22,
   "id": "bd5122a0",
   "metadata": {},
   "outputs": [
    {
     "name": "stdout",
     "output_type": "stream",
     "text": [
      "5\n",
      "3\n",
      "22\n",
      "65\n",
      "217\n",
      "[22, 32, 44, 54, 65]\n",
      "[65, 54, 44, 32, 22]\n",
      "{32, 65, 54, 22, 44}\n",
      "{44, 22}\n",
      "{32, 65, 54}\n",
      "set()\n",
      "{32, 65, 54}\n",
      "False\n",
      "False\n",
      "True\n"
     ]
    }
   ],
   "source": [
    "# 7. Set Functions\n",
    "s11 = {22,32,44,54,65}\n",
    "s12 = {22,44}\n",
    "ss1 = {'a',1,True,3.14}\n",
    "\n",
    "# len\n",
    "print(len(s11))\n",
    "print(len(ss1))\n",
    "\n",
    "# min\n",
    "print(min(s11))  # only applicable for homogeneous set\n",
    "# print(min(ss1)) # will give error\n",
    "\n",
    "# max\n",
    "print(max(s11))\n",
    "\n",
    "# sum\n",
    "print(sum(s11))\n",
    "\n",
    "# sorted\n",
    "print(sorted(s11))\n",
    "\n",
    "# sorted reverese\n",
    "print(sorted(s11,reverse=True))\n",
    "\n",
    "# Union\n",
    "print(s11.union(s12))\n",
    "\n",
    "# Intersection\n",
    "print(s11.intersection(s12))\n",
    "\n",
    "# Difference\n",
    "print(s11.difference(s12)) # present in s11 but not in s12\n",
    "print(s12.difference(s11)) # present in s12 but not in s11\n",
    "print(s11.symmetric_difference(s12)) # present in one but not in other\n",
    "\n",
    "#isdisjoint\n",
    "print(s11.isdisjoint(s12)) # Returns True if two sets are disjoint\n",
    "\n",
    "#issubset\n",
    "print(s11.issubset(s12)) # Returns True if s11 is subset of s12\n",
    "\n",
    "#issuperset\n",
    "print(s11.issuperset(s12)) # Returns True if s11 is superset of s12"
   ]
  },
  {
   "cell_type": "code",
   "execution_count": null,
   "id": "b2e3934e",
   "metadata": {},
   "outputs": [],
   "source": []
  }
 ],
 "metadata": {
  "kernelspec": {
   "display_name": "Python 3 (ipykernel)",
   "language": "python",
   "name": "python3"
  },
  "language_info": {
   "codemirror_mode": {
    "name": "ipython",
    "version": 3
   },
   "file_extension": ".py",
   "mimetype": "text/x-python",
   "name": "python",
   "nbconvert_exporter": "python",
   "pygments_lexer": "ipython3",
   "version": "3.8.16"
  }
 },
 "nbformat": 4,
 "nbformat_minor": 5
}
