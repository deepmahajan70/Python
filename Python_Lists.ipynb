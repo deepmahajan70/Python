{
 "cells": [
  {
   "cell_type": "markdown",
   "id": "fd78ec3f",
   "metadata": {},
   "source": [
    "# List\n",
    "\n",
    "1. What is List ?\n",
    "   Collection of elements, like array in other languages\n",
    "   \n",
    "2. How it is differ from Arrays ?\n",
    "   Arrays => Homogeneous, Allocates Continuous Memory, Faster\n",
    "   List => Heterogeneous, Allocates Non-continuous Memory, Slower, More programmer Friendly\n",
    "   \n",
    "3. Creating List\n",
    "4. Access List Element\n",
    "5. Edit List\n",
    "6. Add Element in List\n",
    "7. Delete Element from List\n",
    "8. Operations on List\n",
    "9. List related Functions"
   ]
  },
  {
   "cell_type": "code",
   "execution_count": 6,
   "id": "faf3e49c",
   "metadata": {
    "collapsed": true
   },
   "outputs": [
    {
     "name": "stdout",
     "output_type": "stream",
     "text": [
      "[]\n",
      "[1, 2, 3, 4, 5]\n",
      "['This', 'is', 'list', 'of', 'strings']\n",
      "[1, 3.14, (4+5j), 'c', True]\n",
      "[1, 2, [3, 4]]\n",
      "[1, 2, [5, 6, [7, 8], 3], 4]\n",
      "[]\n",
      "['m', 'u', 's', 'i', 'c']\n"
     ]
    }
   ],
   "source": [
    "# 3. Creating List\n",
    "\n",
    "# empty list\n",
    "l1 = [] \n",
    "print(l1)\n",
    "\n",
    "# Homogeneous list, all elements are of same data-type,\n",
    "l2 = [1,2,3,4,5] # List of integers\n",
    "print(l2)\n",
    "l22 = ['This', 'is','list', 'of', 'strings']\n",
    "print(l22)\n",
    "\n",
    "# Heterogeneous list, elements are of different data-type,\n",
    "l3 = [1, 3.14, 4+5j, 'c', True]\n",
    "print(l3)\n",
    "\n",
    "# Multi-dimentional List, list within a list, 2D,3D,..\n",
    "# 2D : list within list\n",
    "l4 = [1,2,[3,4]]\n",
    "print(l4)\n",
    "\n",
    "# 3D list in list within list\n",
    "l5 = [1,2,[5,6,[7,8,],3],4]\n",
    "print(l5)\n",
    "\n",
    "# Creating list using list function e.g. \n",
    "l6 = list() # will create empty list\n",
    "print(l6)\n",
    "\n",
    "l7 = list('music') # will create list from provided string\n",
    "print(l7)\n",
    "\n"
   ]
  },
  {
   "cell_type": "code",
   "execution_count": 7,
   "id": "bc8a2ba4",
   "metadata": {
    "collapsed": true
   },
   "outputs": [
    {
     "name": "stdout",
     "output_type": "stream",
     "text": [
      "1\n",
      "[3, 4]\n",
      "5\n",
      "[5, 4, 3, 2, 1]\n",
      "[4, 5]\n",
      "4\n",
      "3\n",
      "5\n"
     ]
    }
   ],
   "source": [
    "# 4. Access List Element\n",
    "\n",
    "l2 = [1,2,3,4,5]\n",
    "\n",
    "print(l2[0]) # will print 1, first element at 0th index position\n",
    "\n",
    "print(l2[2:4]) # will print 2nd & 3rd index position elements\n",
    "\n",
    "print(l2[-1]) # will print 5, last index position element\n",
    "\n",
    "print(l2[::-1]) # will reverse the list\n",
    "\n",
    "l3 = [1,2,3,[4,5]] # 2D list\n",
    "# How to access 4 from l3 ? is it in list within list.\n",
    "# first reach to the list which contains 4\n",
    "# that list is last item of outer list, so we can access it as l3[-1]\n",
    "print(l3[-1])\n",
    "# now from that we want 1st element i.e. 0th index of l3[-1] so we can get it by l3[-1][0]\n",
    "print(l3[-1][0]) \n",
    "# and same way l3[-1][1] will give us 5, l3[-1][-1] will also give 5 as it is last item of internal list\n",
    "\n",
    "l4 = [[[1,2],[3,4]],[[5,6],[7,8],[9,10]]] # 3D list\n",
    "\n",
    "# To access 3 \n",
    "print(l4[0][1][0]) \n",
    "\n",
    "# To access 5\n",
    "print(l4[1][0][0])"
   ]
  },
  {
   "cell_type": "code",
   "execution_count": 9,
   "id": "ebf357f8",
   "metadata": {
    "collapsed": true
   },
   "outputs": [
    {
     "name": "stdout",
     "output_type": "stream",
     "text": [
      "[1, 2, 3, 4, 5]\n",
      "[100, 2, 3, 4, 5]\n",
      "[100, 2, 3, 4, 70]\n"
     ]
    }
   ],
   "source": [
    "# 5. Edit List: Possible because Python lists are Mutable \n",
    "l5 = [1,2,3,4,5]\n",
    "print(l5)\n",
    "# Edit 1st item, change 1 to 100\n",
    "l5[0] = 100\n",
    "print(l5)\n",
    "# Edit last item, make it 70\n",
    "l5[-1] = 70\n",
    "print(l5)"
   ]
  },
  {
   "cell_type": "code",
   "execution_count": 19,
   "id": "19ebce63",
   "metadata": {},
   "outputs": [
    {
     "name": "stdout",
     "output_type": "stream",
     "text": [
      "[1, 2, 3]\n",
      "[1, 2, 3, 4]\n",
      "[1, 2, 3, 4, 5, 6]\n",
      "[34, 1, 2, 3, 4, 5, 6]\n",
      "[34, 1, 2, 44, 3, 4, 5, 6]\n"
     ]
    }
   ],
   "source": [
    "# 6. Add Element to list\n",
    "l6 = [1,2,3]\n",
    "print(l6)\n",
    "l6.append(4) # add item at last\n",
    "print(l6)\n",
    "\n",
    "l6.extend([5,6]) # add item list at \n",
    "print(l6)\n",
    "\n",
    "l6.insert(0,34) # add item at perticular index, here 34 will be added at index 0\n",
    "print(l6)\n",
    "\n",
    "l6.insert(3,44) \n",
    "print(l6)"
   ]
  },
  {
   "cell_type": "code",
   "execution_count": 27,
   "id": "9b58919b",
   "metadata": {},
   "outputs": [
    {
     "name": "stdout",
     "output_type": "stream",
     "text": [
      "[88, 99, 0]\n",
      "[34, 1, 2, 44, 3, 4, 5, 6]\n",
      "[1, 2, 44, 3, 4, 5, 6]\n",
      "[1, 2, 44, 3, 4, 5]\n",
      "[]\n"
     ]
    }
   ],
   "source": [
    "# 7. Delete Element from List\n",
    "l77 = [88,99,0]\n",
    "print(l77)\n",
    "\n",
    "del l77 # Delete entire list\n",
    "# print(l77)\n",
    "l7 = [34, 1, 2, 44, 3, 4, 5, 6]\n",
    "print(l7)\n",
    "\n",
    "l7.remove(34) # Delete first occurrence of passed value, when you don't know index\n",
    "print(l7)\n",
    "\n",
    "l7.pop() # Delete last item from list\n",
    "print(l7)\n",
    "\n",
    "l7.clear() # Remove all items from list\n",
    "print(l7)"
   ]
  },
  {
   "cell_type": "code",
   "execution_count": 5,
   "id": "19e5ce9e",
   "metadata": {
    "collapsed": true
   },
   "outputs": [
    {
     "name": "stdout",
     "output_type": "stream",
     "text": [
      "[1, 2, 3, 4, 5, [6, 7]]\n",
      "[1, 2, 3, 1, 2, 3, 1, 2, 3]\n",
      "4\n",
      "5\n",
      "[6, 7]\n",
      "True\n",
      "False\n",
      "True\n"
     ]
    }
   ],
   "source": [
    "# 8. Operations on List\n",
    "l1 = [1,2,3]\n",
    "l2 = [4,5,[6,7]]\n",
    "print(l1 + l2) # Concatenation\n",
    "print(l1*3)    # Multiplication\n",
    "\n",
    "for i in l2:   # loop on list\n",
    "    print(i)\n",
    "\n",
    "print(2 in l1) # membership operation\n",
    "print(6 in l2) # membership operation, 6 is not directly in l2, so false\n",
    "print([6,7] in l2) # membership function"
   ]
  },
  {
   "cell_type": "code",
   "execution_count": 19,
   "id": "72f5c1fa",
   "metadata": {},
   "outputs": [
    {
     "name": "stdout",
     "output_type": "stream",
     "text": [
      "4\n",
      "1\n",
      "5\n",
      "[1, 2, 3, 5]\n",
      "[2, 3, 1, 5]\n",
      "[1, 2, 3, 5]\n",
      "2\n",
      "Now We Will Create Title\n"
     ]
    }
   ],
   "source": [
    "# 9. List related Functions\n",
    "l1 = [2,3,1,5]\n",
    "\n",
    "print(len(l1)) # len() on list\n",
    "\n",
    "print(min(l1)) # min() on list but list must be numerical\n",
    "\n",
    "print(max(l1)) # max() on list but list must be numerical\n",
    "\n",
    "print(sorted(l1)) # sorted on list\n",
    "\n",
    "sorted(l1, reverse = True) # sorted on list , not permanant\n",
    "print(l1)\n",
    "\n",
    "l1.sort() # permanant sort,\n",
    "print(l1)\n",
    "\n",
    "print(l1.index(3)) # returns index of passed item\n",
    "\n",
    "t1 = \"now we will create title\"\n",
    "print(t1.title())"
   ]
  },
  {
   "cell_type": "code",
   "execution_count": 6,
   "id": "d6801197",
   "metadata": {
    "collapsed": true
   },
   "outputs": [
    {
     "name": "stdout",
     "output_type": "stream",
     "text": [
      "Now You Got It\n"
     ]
    }
   ],
   "source": [
    "# Create title() function:\n",
    "t = \"now you got it\"\n",
    "ttl = []\n",
    "# print(t.split())\n",
    "for i in t.split():\n",
    "    ttl.append(i.capitalize())\n",
    "t2 = \" \".join(ttl)\n",
    "print(t2)"
   ]
  },
  {
   "cell_type": "code",
   "execution_count": 9,
   "id": "0a8e0068",
   "metadata": {
    "collapsed": true
   },
   "outputs": [
    {
     "name": "stdout",
     "output_type": "stream",
     "text": [
      "Enter your mail iddeep@gmail.com\n",
      "deep\n"
     ]
    }
   ],
   "source": [
    "# getting substring from user email\n",
    "email = input(\"Enter your mail id\")\n",
    "if '@' not in email:\n",
    "    print(\"Not valid\")\n",
    "else:\n",
    "    at = email.index('@')\n",
    "    print(email[:at])\n"
   ]
  },
  {
   "cell_type": "code",
   "execution_count": 1,
   "id": "ead6e757",
   "metadata": {
    "collapsed": true
   },
   "outputs": [
    {
     "name": "stdout",
     "output_type": "stream",
     "text": [
      "[1, 2, 4, 3, 5]\n"
     ]
    }
   ],
   "source": [
    "# Removing duplicate entries from list\n",
    "dl = [1,2,1,4,3,2,4,5,3]\n",
    "ndl =[]\n",
    "for i in dl:\n",
    "    if i not in ndl:\n",
    "        ndl.append(i)\n",
    "print(ndl)  "
   ]
  }
 ],
 "metadata": {
  "kernelspec": {
   "display_name": "Python 3 (ipykernel)",
   "language": "python",
   "name": "python3"
  },
  "language_info": {
   "codemirror_mode": {
    "name": "ipython",
    "version": 3
   },
   "file_extension": ".py",
   "mimetype": "text/x-python",
   "name": "python",
   "nbconvert_exporter": "python",
   "pygments_lexer": "ipython3",
   "version": "3.8.16"
  }
 },
 "nbformat": 4,
 "nbformat_minor": 5
}
