{
 "cells": [
  {
   "cell_type": "markdown",
   "id": "b39323d8",
   "metadata": {},
   "source": [
    "# Dictionary\n",
    "\n",
    "{\"key1\":\"value1\", \"key2\":\"value2\",\"key3\":\"value3\",... }\n",
    "\n",
    "Rules:\n",
    "    1. Dictionary has NO indexing\n",
    "    2. Dictionary is mutable data-type\n",
    "    3. Keys -> must be immutable, Values -> can be mutable\n",
    "    4. Keys needs to be unique"
   ]
  },
  {
   "cell_type": "code",
   "execution_count": 7,
   "id": "055398cd",
   "metadata": {
    "collapsed": true
   },
   "outputs": [
    {
     "name": "stdout",
     "output_type": "stream",
     "text": [
      "{}\n",
      "{'Name': 'Deepak', 'Age': '38'}\n",
      "{(1, 2, 3): 'OneTwoThree'}\n",
      "{'Name': 'Jay'}\n",
      "{'Name': 'Deepak', 'Marks': {'P': 65, 'C': 62, 'M': 72}}\n"
     ]
    }
   ],
   "source": [
    "# Create \n",
    "d1 = {}  # creates empty dictionary\n",
    "print(d1)\n",
    "\n",
    "d2 = {\"Name\":\"Deepak\", \"Age\":\"38\"}\n",
    "print(d2)\n",
    "\n",
    "# d3 = {[1,2,3]:'OneTwoThree'} # will give error, as list is mutable and key can not be mutable item\n",
    "d3 = {(1,2,3):'OneTwoThree'} # will work, as tuple is immutable\n",
    "print(d3)\n",
    "\n",
    "# key must be unique, if repeated, it will update the value e.g.\n",
    "d4 ={\"Name\":\"Deepak\", \"Name\":\"Jay\"}\n",
    "print(d4)\n",
    "\n",
    "# 2D Dictionary\n",
    "d5 = {\"Name\":\"Deepak\", \"Marks\":{\"P\":65,\"C\":62,\"M\":72}}\n",
    "print(d5)"
   ]
  },
  {
   "cell_type": "code",
   "execution_count": 11,
   "id": "bf0ebe8f",
   "metadata": {},
   "outputs": [
    {
     "name": "stdout",
     "output_type": "stream",
     "text": [
      "Deepak\n",
      "38\n",
      "62\n"
     ]
    }
   ],
   "source": [
    "# Access Item\n",
    "# To access item from dictionary, we need to provide correct key e.g.\\\n",
    "\n",
    "d2 = {\"Name\":\"Deepak\", \"Age\":\"38\"}\n",
    "print(d2[\"Name\"]) # will return corresponding value associated with passed key\n",
    "print(d2.get(\"Age\")) # is another way to get item, but will not work in 2D\n",
    "\n",
    "d5 = {\"Name\":\"Deepak\", \"Marks\":{\"P\":65,\"C\":62,\"M\":72}}\n",
    "print(d5[\"Marks\"][\"C\"]) # this is how we can access 2D dictionary"
   ]
  },
  {
   "cell_type": "code",
   "execution_count": 10,
   "id": "e7cd59c1",
   "metadata": {},
   "outputs": [
    {
     "name": "stdout",
     "output_type": "stream",
     "text": [
      "{'Name': 'Pravin', 'Age': '38'}\n"
     ]
    }
   ],
   "source": [
    "# Edit Item\n",
    "d2 = {\"Name\":\"Deepak\", \"Age\":\"38\"}\n",
    "d2[\"Name\"]=\"Pravin\"\n",
    "print(d2) "
   ]
  },
  {
   "cell_type": "code",
   "execution_count": 13,
   "id": "d07848ba",
   "metadata": {},
   "outputs": [
    {
     "name": "stdout",
     "output_type": "stream",
     "text": [
      "{'Name': 'Deepak', 'Age': '38', 'City': 'Kolhapur'}\n",
      "{'Name': 'Deepak', 'Marks': {'P': 65, 'C': 62, 'M': 72, 'B': 54}}\n"
     ]
    }
   ],
   "source": [
    "# Add New key-value pair\n",
    "d2 = {\"Name\":\"Deepak\", \"Age\":\"38\"}\n",
    "d2[\"City\"]=\"Kolhapur\"\n",
    "print(d2)\n",
    "\n",
    "d5 = {\"Name\":\"Deepak\", \"Marks\":{\"P\":65,\"C\":62,\"M\":72}}\n",
    "d5[\"Marks\"][\"B\"]=54\n",
    "print(d5)"
   ]
  },
  {
   "cell_type": "code",
   "execution_count": 14,
   "id": "c507a3f2",
   "metadata": {},
   "outputs": [
    {
     "name": "stdout",
     "output_type": "stream",
     "text": [
      "{'Name': 'Deepak', 'City': 'Kolhapur'}\n",
      "{'Name': 'Deepak', 'Marks': {'P': 65, 'M': 72, 'B': 54}}\n"
     ]
    }
   ],
   "source": [
    "# Delete Key-value Pair\n",
    "\n",
    "dd = {}\n",
    "del dd # delete entire dictionary\n",
    "\n",
    "dd1 = {'Name': 'Deepak', 'Age': '38', 'City': 'Kolhapur'}\n",
    "del dd1[\"Age\"]\n",
    "print(dd1)\n",
    "\n",
    "dd2 = {'Name': 'Deepak', 'Marks': {'P': 65, 'C': 62, 'M': 72, 'B': 54}}\n",
    "del dd2[\"Marks\"][\"C\"]\n",
    "print(dd2)\n",
    "\n",
    "# dd2.clear() # will empty the dictionary"
   ]
  },
  {
   "cell_type": "code",
   "execution_count": 20,
   "id": "85ce6ccc",
   "metadata": {},
   "outputs": [
    {
     "name": "stdout",
     "output_type": "stream",
     "text": [
      "Name - Deepak\n",
      "Age - 38\n",
      "City - Kolhapur\n"
     ]
    },
    {
     "data": {
      "text/plain": [
       "False"
      ]
     },
     "execution_count": 20,
     "metadata": {},
     "output_type": "execute_result"
    }
   ],
   "source": [
    "# Operations\n",
    "do1 = {'Name': 'Deepak', 'Age': '38', 'City': 'Kolhapur'}\n",
    "# Concatenation and Multiplication are NOT supported, but loops are supported\n",
    "\n",
    "for i in do1:  \n",
    "    print(i + \" - \" + do1.get(i))\n",
    "    \n",
    "# Membership will work with key values, not on values\n",
    "\"Name\" in do1 # will return True, but \n",
    "# \"Deepak\" in do1 # will return false, as Deepak is not a key in do1\n"
   ]
  },
  {
   "cell_type": "code",
   "execution_count": 22,
   "id": "5e27f606",
   "metadata": {},
   "outputs": [
    {
     "data": {
      "text/plain": [
       "dict_values(['Deepak', '38', 'Kolhapur'])"
      ]
     },
     "execution_count": 22,
     "metadata": {},
     "output_type": "execute_result"
    }
   ],
   "source": [
    "# Funtions\n",
    "do1 = {'Name': 'Deepak', 'Age': '38', 'City': 'Kolhapur'}\n",
    "\n",
    "# len, min, max, sorted all supported in addition to these - \n",
    "do1.keys() # will return all keys\n",
    "\n",
    "do1.values() # will return all values"
   ]
  },
  {
   "cell_type": "code",
   "execution_count": null,
   "id": "b427c1a4",
   "metadata": {},
   "outputs": [],
   "source": []
  }
 ],
 "metadata": {
  "kernelspec": {
   "display_name": "Python 3 (ipykernel)",
   "language": "python",
   "name": "python3"
  },
  "language_info": {
   "codemirror_mode": {
    "name": "ipython",
    "version": 3
   },
   "file_extension": ".py",
   "mimetype": "text/x-python",
   "name": "python",
   "nbconvert_exporter": "python",
   "pygments_lexer": "ipython3",
   "version": "3.8.16"
  }
 },
 "nbformat": 4,
 "nbformat_minor": 5
}
